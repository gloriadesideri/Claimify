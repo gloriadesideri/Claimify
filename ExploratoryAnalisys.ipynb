{
 "cells": [
  {
   "cell_type": "markdown",
   "source": [
    "# Exploratory Analisys\n",
    "In this notebook will be performed the exploratory analysis of the data."
   ],
   "metadata": {
    "collapsed": false
   },
   "id": "9ad115f093fc626a"
  },
  {
   "cell_type": "markdown",
   "source": [
    "## Libraries"
   ],
   "metadata": {
    "collapsed": false
   },
   "id": "648408ff94ac9432"
  },
  {
   "cell_type": "code",
   "outputs": [],
   "source": [
    "import pandas as pd\n",
    "import numpy as np\n",
    "import matplotlib.pyplot as plt\n",
    "import seaborn as sns\n",
    "import plotly.express as px\n",
    "import country_converter as coco\n",
    "import re"
   ],
   "metadata": {
    "collapsed": false,
    "ExecuteTime": {
     "end_time": "2024-04-24T10:48:31.451800Z",
     "start_time": "2024-04-24T10:48:31.449383Z"
    }
   },
   "id": "aa67b3051abd761e",
   "execution_count": 229
  },
  {
   "cell_type": "markdown",
   "source": [
    "## Load Data"
   ],
   "metadata": {
    "collapsed": false
   },
   "id": "8edee04e41ac2590"
  },
  {
   "cell_type": "code",
   "outputs": [],
   "source": [
    "claims_df = pd.read_csv('./data/postprocessed/claims.csv')"
   ],
   "metadata": {
    "collapsed": false,
    "ExecuteTime": {
     "end_time": "2024-04-24T10:57:49.562378Z",
     "start_time": "2024-04-24T10:57:49.547652Z"
    }
   },
   "id": "39de5ad15d89e19a",
   "execution_count": 323
  },
  {
   "cell_type": "code",
   "outputs": [],
   "source": [
    "answers_df = pd.read_csv('./data/postprocessed/answers.csv')"
   ],
   "metadata": {
    "collapsed": false,
    "ExecuteTime": {
     "end_time": "2024-04-24T10:57:49.915545Z",
     "start_time": "2024-04-24T10:57:49.873652Z"
    }
   },
   "id": "2359e5eb17fb604c",
   "execution_count": 324
  },
  {
   "cell_type": "code",
   "outputs": [],
   "source": [
    "# lowercase the speaker column in the dataframe\n",
    "for speaker in claims_df['speaker']:   \n",
    "    claims_df.loc[claims_df['speaker'] == speaker, 'speaker'] = str(speaker).lower()"
   ],
   "metadata": {
    "collapsed": false,
    "ExecuteTime": {
     "end_time": "2024-04-24T10:57:50.797794Z",
     "start_time": "2024-04-24T10:57:50.049849Z"
    }
   },
   "id": "a0ccd26293229683",
   "execution_count": 325
  },
  {
   "cell_type": "code",
   "outputs": [],
   "source": [
    "# remove null values from the speaker column\n",
    "claims_df = claims_df.dropna(subset=['speaker'])\n",
    "# delete special characters from the speaker column\n",
    "claims_df['speaker'] = claims_df['speaker'].str.replace(r'[^\\w\\s]', '')\n",
    "# remove spaces from the speaker column\n",
    "claims_df['speaker'] = claims_df['speaker'].str.replace(' ', '')"
   ],
   "metadata": {
    "collapsed": false,
    "ExecuteTime": {
     "end_time": "2024-04-24T10:58:23.758255Z",
     "start_time": "2024-04-24T10:58:23.751964Z"
    }
   },
   "id": "40c052fc34b89fec",
   "execution_count": 345
  },
  {
   "cell_type": "code",
   "outputs": [],
   "source": [
    "def remove_titles(text):\n",
    "    # Define a list of common English titles and political titles (all lowercase)\n",
    "    common_titles = ['mr', 'mrs', 'ms', 'dr', 'prof', 'rev', 'capt', 'col', 'maj', 'sir', 'madam', 'miss']\n",
    "    political_titles = ['president', 'vice president', 'prime minister', 'senator', 'congressman', 'congresswoman', 'governor', 'mayor']\n",
    "\n",
    "    # Define a list of two-letter country codes (all lowercase)\n",
    "    country_codes = ['us', 'uk', 'au', 'ca', 'fr', 'de', 'jp', 'cn', 'in']  # Add more as needed\n",
    "\n",
    "    # Combine all titles and country codes into one list\n",
    "    all_titles = common_titles + political_titles + country_codes\n",
    "\n",
    "    # Construct a regular expression pattern to match titles and country codes\n",
    "    pattern = r'\\b(?:' + '|'.join(all_titles) + r')\\b'\n",
    "\n",
    "    # Use re.sub() to replace the matched titles with an empty string\n",
    "    text_without_titles = re.sub(pattern, '', text, flags=re.IGNORECASE)\n",
    "\n",
    "    return text_without_titles\n",
    "\n",
    "# Apply the function to the speaker column\n",
    "claims_df['speaker'] = claims_df['speaker'].apply(remove_titles)"
   ],
   "metadata": {
    "collapsed": false,
    "ExecuteTime": {
     "end_time": "2024-04-24T10:58:24.373849Z",
     "start_time": "2024-04-24T10:58:24.365780Z"
    }
   },
   "id": "ddfd99d1f238d5b1",
   "execution_count": 346
  },
  {
   "cell_type": "markdown",
   "source": [
    "## Claims Analisys"
   ],
   "metadata": {
    "collapsed": false
   },
   "id": "681d9155d8185f5e"
  },
  {
   "cell_type": "code",
   "outputs": [
    {
     "name": "stdout",
     "output_type": "stream",
     "text": [
      "Number of unique labels: 4\n",
      "Labels:\n",
      " ['Supported' 'Refuted' 'Conflicting Evidence/Cherrypicking'\n",
      " 'Not Enough Evidence']\n",
      "Number of unique speakers: 1261\n",
      "Speakers:\n",
      " ['pambondi' 'erictrump' 'railaodinga' ... 'stonyrushing' 'sunilbassi'\n",
      " 'nikkisweightlosssupport']\n",
      "Number of unique locations: 53\n",
      "Locations:\n",
      " ['US' 'KE' 'IN' 'NG' 'NZ' nan 'GH' 'ZA' 'HK' 'GB' 'PH' 'KR' 'CA' 'SE' 'RU'\n",
      " 'TR' 'PK' 'AU' 'TW' 'MM' 'DE' 'IE' 'IR' 'ES' 'CH' 'CN' 'TZ' 'MX' 'UG'\n",
      " 'IL' 'KP' 'IT' 'SA' 'AE' 'MG' 'RS' 'LK' 'MY' 'JP' 'VA' 'TH' 'ET' 'ZW'\n",
      " 'SY' 'BW' 'UA' 'ID' 'SZ' 'FR' 'PL' 'MZ' 'MW' 'EG' 'BB']\n"
     ]
    }
   ],
   "source": [
    "# Collect the number of unique labels, speakers, locations\n",
    "u_labels = claims_df['label'].unique()\n",
    "n_labels = claims_df['label'].nunique()\n",
    "u_speakers = claims_df['speaker'].unique()\n",
    "n_speakers = claims_df['speaker'].nunique()\n",
    "u_locations = claims_df['location_ISO_code'].unique()\n",
    "n_locations = claims_df['location_ISO_code'].nunique()\n",
    "\n",
    "print(f'Number of unique labels: {n_labels}')\n",
    "print(f'Labels:\\n {u_labels}')\n",
    "print(f'Number of unique speakers: {n_speakers}')\n",
    "print(f'Speakers:\\n {u_speakers}')\n",
    "print(f'Number of unique locations: {n_locations}')\n",
    "print(f'Locations:\\n {u_locations}')"
   ],
   "metadata": {
    "collapsed": false,
    "ExecuteTime": {
     "end_time": "2024-04-24T10:58:25.198303Z",
     "start_time": "2024-04-24T10:58:25.193896Z"
    }
   },
   "id": "5260763ff9128d63",
   "execution_count": 347
  },
  {
   "cell_type": "markdown",
   "source": [
    "### Claims by State"
   ],
   "metadata": {
    "collapsed": false
   },
   "id": "7724c0e1f3059772"
  },
  {
   "cell_type": "code",
   "outputs": [
    {
     "data": {
      "text/plain": "   location_ISO_code  count\n0                 AE      1\n1                 AU     22\n2                 BB      1\n3                 BW      1\n4                 CA      7\n5                 CH      1\n6                 CN     19\n7                 DE      2\n8                 EG      1\n9                 ES      2\n10                ET      1\n11                FR      4\n12                GB     98\n13                GH      5\n14                HK      4\n15                ID      1\n16                IE      7\n17                IL      1\n18                IN    178\n19                IT      4\n20                JP      4\n21                KE     70\n22                KP      1\n23                KR      2\n24                LK     10\n25                MM      1\n26                MW      1\n27                MX      3\n28                MY      1\n29                MZ      1\n30                NG     66\n31                NZ      4\n32                PH     29\n33                PK      5\n34                PL      2\n35                RU     17\n36                SY      1\n37                SZ      1\n38                TH      4\n39                TR      2\n40                TW      1\n41                TZ      1\n42                UA      3\n43                UG      1\n44                US    591\n45                VA      1\n46                ZA     31\n47                ZW      1",
      "text/html": "<div>\n<style scoped>\n    .dataframe tbody tr th:only-of-type {\n        vertical-align: middle;\n    }\n\n    .dataframe tbody tr th {\n        vertical-align: top;\n    }\n\n    .dataframe thead th {\n        text-align: right;\n    }\n</style>\n<table border=\"1\" class=\"dataframe\">\n  <thead>\n    <tr style=\"text-align: right;\">\n      <th></th>\n      <th>location_ISO_code</th>\n      <th>count</th>\n    </tr>\n  </thead>\n  <tbody>\n    <tr>\n      <th>0</th>\n      <td>AE</td>\n      <td>1</td>\n    </tr>\n    <tr>\n      <th>1</th>\n      <td>AU</td>\n      <td>22</td>\n    </tr>\n    <tr>\n      <th>2</th>\n      <td>BB</td>\n      <td>1</td>\n    </tr>\n    <tr>\n      <th>3</th>\n      <td>BW</td>\n      <td>1</td>\n    </tr>\n    <tr>\n      <th>4</th>\n      <td>CA</td>\n      <td>7</td>\n    </tr>\n    <tr>\n      <th>5</th>\n      <td>CH</td>\n      <td>1</td>\n    </tr>\n    <tr>\n      <th>6</th>\n      <td>CN</td>\n      <td>19</td>\n    </tr>\n    <tr>\n      <th>7</th>\n      <td>DE</td>\n      <td>2</td>\n    </tr>\n    <tr>\n      <th>8</th>\n      <td>EG</td>\n      <td>1</td>\n    </tr>\n    <tr>\n      <th>9</th>\n      <td>ES</td>\n      <td>2</td>\n    </tr>\n    <tr>\n      <th>10</th>\n      <td>ET</td>\n      <td>1</td>\n    </tr>\n    <tr>\n      <th>11</th>\n      <td>FR</td>\n      <td>4</td>\n    </tr>\n    <tr>\n      <th>12</th>\n      <td>GB</td>\n      <td>98</td>\n    </tr>\n    <tr>\n      <th>13</th>\n      <td>GH</td>\n      <td>5</td>\n    </tr>\n    <tr>\n      <th>14</th>\n      <td>HK</td>\n      <td>4</td>\n    </tr>\n    <tr>\n      <th>15</th>\n      <td>ID</td>\n      <td>1</td>\n    </tr>\n    <tr>\n      <th>16</th>\n      <td>IE</td>\n      <td>7</td>\n    </tr>\n    <tr>\n      <th>17</th>\n      <td>IL</td>\n      <td>1</td>\n    </tr>\n    <tr>\n      <th>18</th>\n      <td>IN</td>\n      <td>178</td>\n    </tr>\n    <tr>\n      <th>19</th>\n      <td>IT</td>\n      <td>4</td>\n    </tr>\n    <tr>\n      <th>20</th>\n      <td>JP</td>\n      <td>4</td>\n    </tr>\n    <tr>\n      <th>21</th>\n      <td>KE</td>\n      <td>70</td>\n    </tr>\n    <tr>\n      <th>22</th>\n      <td>KP</td>\n      <td>1</td>\n    </tr>\n    <tr>\n      <th>23</th>\n      <td>KR</td>\n      <td>2</td>\n    </tr>\n    <tr>\n      <th>24</th>\n      <td>LK</td>\n      <td>10</td>\n    </tr>\n    <tr>\n      <th>25</th>\n      <td>MM</td>\n      <td>1</td>\n    </tr>\n    <tr>\n      <th>26</th>\n      <td>MW</td>\n      <td>1</td>\n    </tr>\n    <tr>\n      <th>27</th>\n      <td>MX</td>\n      <td>3</td>\n    </tr>\n    <tr>\n      <th>28</th>\n      <td>MY</td>\n      <td>1</td>\n    </tr>\n    <tr>\n      <th>29</th>\n      <td>MZ</td>\n      <td>1</td>\n    </tr>\n    <tr>\n      <th>30</th>\n      <td>NG</td>\n      <td>66</td>\n    </tr>\n    <tr>\n      <th>31</th>\n      <td>NZ</td>\n      <td>4</td>\n    </tr>\n    <tr>\n      <th>32</th>\n      <td>PH</td>\n      <td>29</td>\n    </tr>\n    <tr>\n      <th>33</th>\n      <td>PK</td>\n      <td>5</td>\n    </tr>\n    <tr>\n      <th>34</th>\n      <td>PL</td>\n      <td>2</td>\n    </tr>\n    <tr>\n      <th>35</th>\n      <td>RU</td>\n      <td>17</td>\n    </tr>\n    <tr>\n      <th>36</th>\n      <td>SY</td>\n      <td>1</td>\n    </tr>\n    <tr>\n      <th>37</th>\n      <td>SZ</td>\n      <td>1</td>\n    </tr>\n    <tr>\n      <th>38</th>\n      <td>TH</td>\n      <td>4</td>\n    </tr>\n    <tr>\n      <th>39</th>\n      <td>TR</td>\n      <td>2</td>\n    </tr>\n    <tr>\n      <th>40</th>\n      <td>TW</td>\n      <td>1</td>\n    </tr>\n    <tr>\n      <th>41</th>\n      <td>TZ</td>\n      <td>1</td>\n    </tr>\n    <tr>\n      <th>42</th>\n      <td>UA</td>\n      <td>3</td>\n    </tr>\n    <tr>\n      <th>43</th>\n      <td>UG</td>\n      <td>1</td>\n    </tr>\n    <tr>\n      <th>44</th>\n      <td>US</td>\n      <td>591</td>\n    </tr>\n    <tr>\n      <th>45</th>\n      <td>VA</td>\n      <td>1</td>\n    </tr>\n    <tr>\n      <th>46</th>\n      <td>ZA</td>\n      <td>31</td>\n    </tr>\n    <tr>\n      <th>47</th>\n      <td>ZW</td>\n      <td>1</td>\n    </tr>\n  </tbody>\n</table>\n</div>"
     },
     "execution_count": 348,
     "metadata": {},
     "output_type": "execute_result"
    }
   ],
   "source": [
    "# detect the countries with the most refuted claims\n",
    "refuted_df = claims_df[claims_df['label'] == 'Refuted']\n",
    "# group by location_ISO_code and count the number of refuted claims\n",
    "refuted_by_state = refuted_df.groupby('location_ISO_code').size().reset_index(name='count')\n",
    "refuted_by_state"
   ],
   "metadata": {
    "collapsed": false,
    "ExecuteTime": {
     "end_time": "2024-04-24T10:58:25.582846Z",
     "start_time": "2024-04-24T10:58:25.575774Z"
    }
   },
   "id": "2ec4416b28cb481d",
   "execution_count": 348
  },
  {
   "cell_type": "code",
   "outputs": [
    {
     "data": {
      "text/plain": "   location_ISO_code  count\n0                 AE      2\n1                 AU     30\n2                 BB      1\n3                 BW      1\n4                 CA      8\n5                 CH      2\n6                 CN     29\n7                 DE      3\n8                 EG      1\n9                 ES      2\n10                ET      1\n11                FR      4\n12                GB    177\n13                GH     13\n14                HK      6\n15                ID      1\n16                IE     11\n17                IL      5\n18                IN    263\n19                IR      1\n20                IT      5\n21                JP      4\n22                KE    229\n23                KP      3\n24                KR      3\n25                LK     11\n26                MG      1\n27                MM      1\n28                MW      1\n29                MX      3\n30                MY      1\n31                MZ      1\n32                NG    165\n33                NZ      7\n34                PH     34\n35                PK      5\n36                PL      2\n37                RS      1\n38                RU     29\n39                SA      1\n40                SE      1\n41                SY      1\n42                SZ      1\n43                TH      4\n44                TR      2\n45                TW      1\n46                TZ      1\n47                UA      3\n48                UG      1\n49                US   1025\n50                VA      1\n51                ZA    147\n52                ZW      2",
      "text/html": "<div>\n<style scoped>\n    .dataframe tbody tr th:only-of-type {\n        vertical-align: middle;\n    }\n\n    .dataframe tbody tr th {\n        vertical-align: top;\n    }\n\n    .dataframe thead th {\n        text-align: right;\n    }\n</style>\n<table border=\"1\" class=\"dataframe\">\n  <thead>\n    <tr style=\"text-align: right;\">\n      <th></th>\n      <th>location_ISO_code</th>\n      <th>count</th>\n    </tr>\n  </thead>\n  <tbody>\n    <tr>\n      <th>0</th>\n      <td>AE</td>\n      <td>2</td>\n    </tr>\n    <tr>\n      <th>1</th>\n      <td>AU</td>\n      <td>30</td>\n    </tr>\n    <tr>\n      <th>2</th>\n      <td>BB</td>\n      <td>1</td>\n    </tr>\n    <tr>\n      <th>3</th>\n      <td>BW</td>\n      <td>1</td>\n    </tr>\n    <tr>\n      <th>4</th>\n      <td>CA</td>\n      <td>8</td>\n    </tr>\n    <tr>\n      <th>5</th>\n      <td>CH</td>\n      <td>2</td>\n    </tr>\n    <tr>\n      <th>6</th>\n      <td>CN</td>\n      <td>29</td>\n    </tr>\n    <tr>\n      <th>7</th>\n      <td>DE</td>\n      <td>3</td>\n    </tr>\n    <tr>\n      <th>8</th>\n      <td>EG</td>\n      <td>1</td>\n    </tr>\n    <tr>\n      <th>9</th>\n      <td>ES</td>\n      <td>2</td>\n    </tr>\n    <tr>\n      <th>10</th>\n      <td>ET</td>\n      <td>1</td>\n    </tr>\n    <tr>\n      <th>11</th>\n      <td>FR</td>\n      <td>4</td>\n    </tr>\n    <tr>\n      <th>12</th>\n      <td>GB</td>\n      <td>177</td>\n    </tr>\n    <tr>\n      <th>13</th>\n      <td>GH</td>\n      <td>13</td>\n    </tr>\n    <tr>\n      <th>14</th>\n      <td>HK</td>\n      <td>6</td>\n    </tr>\n    <tr>\n      <th>15</th>\n      <td>ID</td>\n      <td>1</td>\n    </tr>\n    <tr>\n      <th>16</th>\n      <td>IE</td>\n      <td>11</td>\n    </tr>\n    <tr>\n      <th>17</th>\n      <td>IL</td>\n      <td>5</td>\n    </tr>\n    <tr>\n      <th>18</th>\n      <td>IN</td>\n      <td>263</td>\n    </tr>\n    <tr>\n      <th>19</th>\n      <td>IR</td>\n      <td>1</td>\n    </tr>\n    <tr>\n      <th>20</th>\n      <td>IT</td>\n      <td>5</td>\n    </tr>\n    <tr>\n      <th>21</th>\n      <td>JP</td>\n      <td>4</td>\n    </tr>\n    <tr>\n      <th>22</th>\n      <td>KE</td>\n      <td>229</td>\n    </tr>\n    <tr>\n      <th>23</th>\n      <td>KP</td>\n      <td>3</td>\n    </tr>\n    <tr>\n      <th>24</th>\n      <td>KR</td>\n      <td>3</td>\n    </tr>\n    <tr>\n      <th>25</th>\n      <td>LK</td>\n      <td>11</td>\n    </tr>\n    <tr>\n      <th>26</th>\n      <td>MG</td>\n      <td>1</td>\n    </tr>\n    <tr>\n      <th>27</th>\n      <td>MM</td>\n      <td>1</td>\n    </tr>\n    <tr>\n      <th>28</th>\n      <td>MW</td>\n      <td>1</td>\n    </tr>\n    <tr>\n      <th>29</th>\n      <td>MX</td>\n      <td>3</td>\n    </tr>\n    <tr>\n      <th>30</th>\n      <td>MY</td>\n      <td>1</td>\n    </tr>\n    <tr>\n      <th>31</th>\n      <td>MZ</td>\n      <td>1</td>\n    </tr>\n    <tr>\n      <th>32</th>\n      <td>NG</td>\n      <td>165</td>\n    </tr>\n    <tr>\n      <th>33</th>\n      <td>NZ</td>\n      <td>7</td>\n    </tr>\n    <tr>\n      <th>34</th>\n      <td>PH</td>\n      <td>34</td>\n    </tr>\n    <tr>\n      <th>35</th>\n      <td>PK</td>\n      <td>5</td>\n    </tr>\n    <tr>\n      <th>36</th>\n      <td>PL</td>\n      <td>2</td>\n    </tr>\n    <tr>\n      <th>37</th>\n      <td>RS</td>\n      <td>1</td>\n    </tr>\n    <tr>\n      <th>38</th>\n      <td>RU</td>\n      <td>29</td>\n    </tr>\n    <tr>\n      <th>39</th>\n      <td>SA</td>\n      <td>1</td>\n    </tr>\n    <tr>\n      <th>40</th>\n      <td>SE</td>\n      <td>1</td>\n    </tr>\n    <tr>\n      <th>41</th>\n      <td>SY</td>\n      <td>1</td>\n    </tr>\n    <tr>\n      <th>42</th>\n      <td>SZ</td>\n      <td>1</td>\n    </tr>\n    <tr>\n      <th>43</th>\n      <td>TH</td>\n      <td>4</td>\n    </tr>\n    <tr>\n      <th>44</th>\n      <td>TR</td>\n      <td>2</td>\n    </tr>\n    <tr>\n      <th>45</th>\n      <td>TW</td>\n      <td>1</td>\n    </tr>\n    <tr>\n      <th>46</th>\n      <td>TZ</td>\n      <td>1</td>\n    </tr>\n    <tr>\n      <th>47</th>\n      <td>UA</td>\n      <td>3</td>\n    </tr>\n    <tr>\n      <th>48</th>\n      <td>UG</td>\n      <td>1</td>\n    </tr>\n    <tr>\n      <th>49</th>\n      <td>US</td>\n      <td>1025</td>\n    </tr>\n    <tr>\n      <th>50</th>\n      <td>VA</td>\n      <td>1</td>\n    </tr>\n    <tr>\n      <th>51</th>\n      <td>ZA</td>\n      <td>147</td>\n    </tr>\n    <tr>\n      <th>52</th>\n      <td>ZW</td>\n      <td>2</td>\n    </tr>\n  </tbody>\n</table>\n</div>"
     },
     "execution_count": 349,
     "metadata": {},
     "output_type": "execute_result"
    }
   ],
   "source": [
    "# get the overall claims by state\n",
    "claims_by_state =  claims_df.groupby('location_ISO_code').size().reset_index(name='count')\n",
    "claims_by_state"
   ],
   "metadata": {
    "collapsed": false,
    "ExecuteTime": {
     "end_time": "2024-04-24T10:58:25.732896Z",
     "start_time": "2024-04-24T10:58:25.726696Z"
    }
   },
   "id": "924de8b3a75a786c",
   "execution_count": 349
  },
  {
   "cell_type": "code",
   "outputs": [
    {
     "data": {
      "text/plain": "   location_ISO_code  count_x  count_y  percentage\n0                 AE        1        2    0.500000\n1                 AU       22       30    0.733333\n2                 BB        1        1    1.000000\n3                 BW        1        1    1.000000\n4                 CA        7        8    0.875000\n5                 CH        1        2    0.500000\n6                 CN       19       29    0.655172\n7                 DE        2        3    0.666667\n8                 EG        1        1    1.000000\n9                 ES        2        2    1.000000\n10                ET        1        1    1.000000\n11                FR        4        4    1.000000\n12                GB       98      177    0.553672\n13                GH        5       13    0.384615\n14                HK        4        6    0.666667\n15                ID        1        1    1.000000\n16                IE        7       11    0.636364\n17                IL        1        5    0.200000\n18                IN      178      263    0.676806\n19                IT        4        5    0.800000\n20                JP        4        4    1.000000\n21                KE       70      229    0.305677\n22                KP        1        3    0.333333\n23                KR        2        3    0.666667\n24                LK       10       11    0.909091\n25                MM        1        1    1.000000\n26                MW        1        1    1.000000\n27                MX        3        3    1.000000\n28                MY        1        1    1.000000\n29                MZ        1        1    1.000000\n30                NG       66      165    0.400000\n31                NZ        4        7    0.571429\n32                PH       29       34    0.852941\n33                PK        5        5    1.000000\n34                PL        2        2    1.000000\n35                RU       17       29    0.586207\n36                SY        1        1    1.000000\n37                SZ        1        1    1.000000\n38                TH        4        4    1.000000\n39                TR        2        2    1.000000\n40                TW        1        1    1.000000\n41                TZ        1        1    1.000000\n42                UA        3        3    1.000000\n43                UG        1        1    1.000000\n44                US      591     1025    0.576585\n45                VA        1        1    1.000000\n46                ZA       31      147    0.210884\n47                ZW        1        2    0.500000",
      "text/html": "<div>\n<style scoped>\n    .dataframe tbody tr th:only-of-type {\n        vertical-align: middle;\n    }\n\n    .dataframe tbody tr th {\n        vertical-align: top;\n    }\n\n    .dataframe thead th {\n        text-align: right;\n    }\n</style>\n<table border=\"1\" class=\"dataframe\">\n  <thead>\n    <tr style=\"text-align: right;\">\n      <th></th>\n      <th>location_ISO_code</th>\n      <th>count_x</th>\n      <th>count_y</th>\n      <th>percentage</th>\n    </tr>\n  </thead>\n  <tbody>\n    <tr>\n      <th>0</th>\n      <td>AE</td>\n      <td>1</td>\n      <td>2</td>\n      <td>0.500000</td>\n    </tr>\n    <tr>\n      <th>1</th>\n      <td>AU</td>\n      <td>22</td>\n      <td>30</td>\n      <td>0.733333</td>\n    </tr>\n    <tr>\n      <th>2</th>\n      <td>BB</td>\n      <td>1</td>\n      <td>1</td>\n      <td>1.000000</td>\n    </tr>\n    <tr>\n      <th>3</th>\n      <td>BW</td>\n      <td>1</td>\n      <td>1</td>\n      <td>1.000000</td>\n    </tr>\n    <tr>\n      <th>4</th>\n      <td>CA</td>\n      <td>7</td>\n      <td>8</td>\n      <td>0.875000</td>\n    </tr>\n    <tr>\n      <th>5</th>\n      <td>CH</td>\n      <td>1</td>\n      <td>2</td>\n      <td>0.500000</td>\n    </tr>\n    <tr>\n      <th>6</th>\n      <td>CN</td>\n      <td>19</td>\n      <td>29</td>\n      <td>0.655172</td>\n    </tr>\n    <tr>\n      <th>7</th>\n      <td>DE</td>\n      <td>2</td>\n      <td>3</td>\n      <td>0.666667</td>\n    </tr>\n    <tr>\n      <th>8</th>\n      <td>EG</td>\n      <td>1</td>\n      <td>1</td>\n      <td>1.000000</td>\n    </tr>\n    <tr>\n      <th>9</th>\n      <td>ES</td>\n      <td>2</td>\n      <td>2</td>\n      <td>1.000000</td>\n    </tr>\n    <tr>\n      <th>10</th>\n      <td>ET</td>\n      <td>1</td>\n      <td>1</td>\n      <td>1.000000</td>\n    </tr>\n    <tr>\n      <th>11</th>\n      <td>FR</td>\n      <td>4</td>\n      <td>4</td>\n      <td>1.000000</td>\n    </tr>\n    <tr>\n      <th>12</th>\n      <td>GB</td>\n      <td>98</td>\n      <td>177</td>\n      <td>0.553672</td>\n    </tr>\n    <tr>\n      <th>13</th>\n      <td>GH</td>\n      <td>5</td>\n      <td>13</td>\n      <td>0.384615</td>\n    </tr>\n    <tr>\n      <th>14</th>\n      <td>HK</td>\n      <td>4</td>\n      <td>6</td>\n      <td>0.666667</td>\n    </tr>\n    <tr>\n      <th>15</th>\n      <td>ID</td>\n      <td>1</td>\n      <td>1</td>\n      <td>1.000000</td>\n    </tr>\n    <tr>\n      <th>16</th>\n      <td>IE</td>\n      <td>7</td>\n      <td>11</td>\n      <td>0.636364</td>\n    </tr>\n    <tr>\n      <th>17</th>\n      <td>IL</td>\n      <td>1</td>\n      <td>5</td>\n      <td>0.200000</td>\n    </tr>\n    <tr>\n      <th>18</th>\n      <td>IN</td>\n      <td>178</td>\n      <td>263</td>\n      <td>0.676806</td>\n    </tr>\n    <tr>\n      <th>19</th>\n      <td>IT</td>\n      <td>4</td>\n      <td>5</td>\n      <td>0.800000</td>\n    </tr>\n    <tr>\n      <th>20</th>\n      <td>JP</td>\n      <td>4</td>\n      <td>4</td>\n      <td>1.000000</td>\n    </tr>\n    <tr>\n      <th>21</th>\n      <td>KE</td>\n      <td>70</td>\n      <td>229</td>\n      <td>0.305677</td>\n    </tr>\n    <tr>\n      <th>22</th>\n      <td>KP</td>\n      <td>1</td>\n      <td>3</td>\n      <td>0.333333</td>\n    </tr>\n    <tr>\n      <th>23</th>\n      <td>KR</td>\n      <td>2</td>\n      <td>3</td>\n      <td>0.666667</td>\n    </tr>\n    <tr>\n      <th>24</th>\n      <td>LK</td>\n      <td>10</td>\n      <td>11</td>\n      <td>0.909091</td>\n    </tr>\n    <tr>\n      <th>25</th>\n      <td>MM</td>\n      <td>1</td>\n      <td>1</td>\n      <td>1.000000</td>\n    </tr>\n    <tr>\n      <th>26</th>\n      <td>MW</td>\n      <td>1</td>\n      <td>1</td>\n      <td>1.000000</td>\n    </tr>\n    <tr>\n      <th>27</th>\n      <td>MX</td>\n      <td>3</td>\n      <td>3</td>\n      <td>1.000000</td>\n    </tr>\n    <tr>\n      <th>28</th>\n      <td>MY</td>\n      <td>1</td>\n      <td>1</td>\n      <td>1.000000</td>\n    </tr>\n    <tr>\n      <th>29</th>\n      <td>MZ</td>\n      <td>1</td>\n      <td>1</td>\n      <td>1.000000</td>\n    </tr>\n    <tr>\n      <th>30</th>\n      <td>NG</td>\n      <td>66</td>\n      <td>165</td>\n      <td>0.400000</td>\n    </tr>\n    <tr>\n      <th>31</th>\n      <td>NZ</td>\n      <td>4</td>\n      <td>7</td>\n      <td>0.571429</td>\n    </tr>\n    <tr>\n      <th>32</th>\n      <td>PH</td>\n      <td>29</td>\n      <td>34</td>\n      <td>0.852941</td>\n    </tr>\n    <tr>\n      <th>33</th>\n      <td>PK</td>\n      <td>5</td>\n      <td>5</td>\n      <td>1.000000</td>\n    </tr>\n    <tr>\n      <th>34</th>\n      <td>PL</td>\n      <td>2</td>\n      <td>2</td>\n      <td>1.000000</td>\n    </tr>\n    <tr>\n      <th>35</th>\n      <td>RU</td>\n      <td>17</td>\n      <td>29</td>\n      <td>0.586207</td>\n    </tr>\n    <tr>\n      <th>36</th>\n      <td>SY</td>\n      <td>1</td>\n      <td>1</td>\n      <td>1.000000</td>\n    </tr>\n    <tr>\n      <th>37</th>\n      <td>SZ</td>\n      <td>1</td>\n      <td>1</td>\n      <td>1.000000</td>\n    </tr>\n    <tr>\n      <th>38</th>\n      <td>TH</td>\n      <td>4</td>\n      <td>4</td>\n      <td>1.000000</td>\n    </tr>\n    <tr>\n      <th>39</th>\n      <td>TR</td>\n      <td>2</td>\n      <td>2</td>\n      <td>1.000000</td>\n    </tr>\n    <tr>\n      <th>40</th>\n      <td>TW</td>\n      <td>1</td>\n      <td>1</td>\n      <td>1.000000</td>\n    </tr>\n    <tr>\n      <th>41</th>\n      <td>TZ</td>\n      <td>1</td>\n      <td>1</td>\n      <td>1.000000</td>\n    </tr>\n    <tr>\n      <th>42</th>\n      <td>UA</td>\n      <td>3</td>\n      <td>3</td>\n      <td>1.000000</td>\n    </tr>\n    <tr>\n      <th>43</th>\n      <td>UG</td>\n      <td>1</td>\n      <td>1</td>\n      <td>1.000000</td>\n    </tr>\n    <tr>\n      <th>44</th>\n      <td>US</td>\n      <td>591</td>\n      <td>1025</td>\n      <td>0.576585</td>\n    </tr>\n    <tr>\n      <th>45</th>\n      <td>VA</td>\n      <td>1</td>\n      <td>1</td>\n      <td>1.000000</td>\n    </tr>\n    <tr>\n      <th>46</th>\n      <td>ZA</td>\n      <td>31</td>\n      <td>147</td>\n      <td>0.210884</td>\n    </tr>\n    <tr>\n      <th>47</th>\n      <td>ZW</td>\n      <td>1</td>\n      <td>2</td>\n      <td>0.500000</td>\n    </tr>\n  </tbody>\n</table>\n</div>"
     },
     "execution_count": 350,
     "metadata": {},
     "output_type": "execute_result"
    }
   ],
   "source": [
    "# get the percentage of refuted claims by state matching by location_ISO_code\n",
    "refuted_by_state = refuted_by_state.merge(claims_by_state, on='location_ISO_code')\n",
    "refuted_by_state['percentage'] = refuted_by_state['count_x'] / refuted_by_state['count_y']\n",
    "refuted_by_state"
   ],
   "metadata": {
    "collapsed": false,
    "ExecuteTime": {
     "end_time": "2024-04-24T10:58:25.866149Z",
     "start_time": "2024-04-24T10:58:25.858833Z"
    }
   },
   "id": "20c3e0eb1a4a6df9",
   "execution_count": 350
  },
  {
   "cell_type": "code",
   "outputs": [],
   "source": [
    "# rename the columns\n",
    "refuted_by_state = refuted_by_state.rename(columns={'count_x': 'refuted', 'count_y': 'total'})"
   ],
   "metadata": {
    "collapsed": false,
    "ExecuteTime": {
     "end_time": "2024-04-24T10:58:26.324521Z",
     "start_time": "2024-04-24T10:58:26.322085Z"
    }
   },
   "id": "f09b79c71f2650f2",
   "execution_count": 351
  },
  {
   "cell_type": "code",
   "outputs": [
    {
     "data": {
      "text/plain": "   location_ISO_code  refuted  total  percentage\n38                TH        4      4    1.000000\n25                MM        1      1    1.000000\n41                TZ        1      1    1.000000\n42                UA        3      3    1.000000\n20                JP        4      4    1.000000\n39                TR        2      2    1.000000\n27                MX        3      3    1.000000\n43                UG        1      1    1.000000\n28                MY        1      1    1.000000\n15                ID        1      1    1.000000\n29                MZ        1      1    1.000000\n40                TW        1      1    1.000000\n33                PK        5      5    1.000000\n11                FR        4      4    1.000000\n10                ET        1      1    1.000000\n9                 ES        2      2    1.000000\n8                 EG        1      1    1.000000\n34                PL        2      2    1.000000\n36                SY        1      1    1.000000\n45                VA        1      1    1.000000\n37                SZ        1      1    1.000000\n3                 BW        1      1    1.000000\n2                 BB        1      1    1.000000\n26                MW        1      1    1.000000\n24                LK       10     11    0.909091\n4                 CA        7      8    0.875000\n32                PH       29     34    0.852941\n19                IT        4      5    0.800000\n1                 AU       22     30    0.733333\n18                IN      178    263    0.676806\n23                KR        2      3    0.666667\n14                HK        4      6    0.666667\n7                 DE        2      3    0.666667\n6                 CN       19     29    0.655172\n16                IE        7     11    0.636364\n35                RU       17     29    0.586207\n44                US      591   1025    0.576585\n31                NZ        4      7    0.571429\n12                GB       98    177    0.553672\n0                 AE        1      2    0.500000\n5                 CH        1      2    0.500000\n47                ZW        1      2    0.500000\n30                NG       66    165    0.400000\n13                GH        5     13    0.384615\n22                KP        1      3    0.333333\n21                KE       70    229    0.305677\n46                ZA       31    147    0.210884\n17                IL        1      5    0.200000",
      "text/html": "<div>\n<style scoped>\n    .dataframe tbody tr th:only-of-type {\n        vertical-align: middle;\n    }\n\n    .dataframe tbody tr th {\n        vertical-align: top;\n    }\n\n    .dataframe thead th {\n        text-align: right;\n    }\n</style>\n<table border=\"1\" class=\"dataframe\">\n  <thead>\n    <tr style=\"text-align: right;\">\n      <th></th>\n      <th>location_ISO_code</th>\n      <th>refuted</th>\n      <th>total</th>\n      <th>percentage</th>\n    </tr>\n  </thead>\n  <tbody>\n    <tr>\n      <th>38</th>\n      <td>TH</td>\n      <td>4</td>\n      <td>4</td>\n      <td>1.000000</td>\n    </tr>\n    <tr>\n      <th>25</th>\n      <td>MM</td>\n      <td>1</td>\n      <td>1</td>\n      <td>1.000000</td>\n    </tr>\n    <tr>\n      <th>41</th>\n      <td>TZ</td>\n      <td>1</td>\n      <td>1</td>\n      <td>1.000000</td>\n    </tr>\n    <tr>\n      <th>42</th>\n      <td>UA</td>\n      <td>3</td>\n      <td>3</td>\n      <td>1.000000</td>\n    </tr>\n    <tr>\n      <th>20</th>\n      <td>JP</td>\n      <td>4</td>\n      <td>4</td>\n      <td>1.000000</td>\n    </tr>\n    <tr>\n      <th>39</th>\n      <td>TR</td>\n      <td>2</td>\n      <td>2</td>\n      <td>1.000000</td>\n    </tr>\n    <tr>\n      <th>27</th>\n      <td>MX</td>\n      <td>3</td>\n      <td>3</td>\n      <td>1.000000</td>\n    </tr>\n    <tr>\n      <th>43</th>\n      <td>UG</td>\n      <td>1</td>\n      <td>1</td>\n      <td>1.000000</td>\n    </tr>\n    <tr>\n      <th>28</th>\n      <td>MY</td>\n      <td>1</td>\n      <td>1</td>\n      <td>1.000000</td>\n    </tr>\n    <tr>\n      <th>15</th>\n      <td>ID</td>\n      <td>1</td>\n      <td>1</td>\n      <td>1.000000</td>\n    </tr>\n    <tr>\n      <th>29</th>\n      <td>MZ</td>\n      <td>1</td>\n      <td>1</td>\n      <td>1.000000</td>\n    </tr>\n    <tr>\n      <th>40</th>\n      <td>TW</td>\n      <td>1</td>\n      <td>1</td>\n      <td>1.000000</td>\n    </tr>\n    <tr>\n      <th>33</th>\n      <td>PK</td>\n      <td>5</td>\n      <td>5</td>\n      <td>1.000000</td>\n    </tr>\n    <tr>\n      <th>11</th>\n      <td>FR</td>\n      <td>4</td>\n      <td>4</td>\n      <td>1.000000</td>\n    </tr>\n    <tr>\n      <th>10</th>\n      <td>ET</td>\n      <td>1</td>\n      <td>1</td>\n      <td>1.000000</td>\n    </tr>\n    <tr>\n      <th>9</th>\n      <td>ES</td>\n      <td>2</td>\n      <td>2</td>\n      <td>1.000000</td>\n    </tr>\n    <tr>\n      <th>8</th>\n      <td>EG</td>\n      <td>1</td>\n      <td>1</td>\n      <td>1.000000</td>\n    </tr>\n    <tr>\n      <th>34</th>\n      <td>PL</td>\n      <td>2</td>\n      <td>2</td>\n      <td>1.000000</td>\n    </tr>\n    <tr>\n      <th>36</th>\n      <td>SY</td>\n      <td>1</td>\n      <td>1</td>\n      <td>1.000000</td>\n    </tr>\n    <tr>\n      <th>45</th>\n      <td>VA</td>\n      <td>1</td>\n      <td>1</td>\n      <td>1.000000</td>\n    </tr>\n    <tr>\n      <th>37</th>\n      <td>SZ</td>\n      <td>1</td>\n      <td>1</td>\n      <td>1.000000</td>\n    </tr>\n    <tr>\n      <th>3</th>\n      <td>BW</td>\n      <td>1</td>\n      <td>1</td>\n      <td>1.000000</td>\n    </tr>\n    <tr>\n      <th>2</th>\n      <td>BB</td>\n      <td>1</td>\n      <td>1</td>\n      <td>1.000000</td>\n    </tr>\n    <tr>\n      <th>26</th>\n      <td>MW</td>\n      <td>1</td>\n      <td>1</td>\n      <td>1.000000</td>\n    </tr>\n    <tr>\n      <th>24</th>\n      <td>LK</td>\n      <td>10</td>\n      <td>11</td>\n      <td>0.909091</td>\n    </tr>\n    <tr>\n      <th>4</th>\n      <td>CA</td>\n      <td>7</td>\n      <td>8</td>\n      <td>0.875000</td>\n    </tr>\n    <tr>\n      <th>32</th>\n      <td>PH</td>\n      <td>29</td>\n      <td>34</td>\n      <td>0.852941</td>\n    </tr>\n    <tr>\n      <th>19</th>\n      <td>IT</td>\n      <td>4</td>\n      <td>5</td>\n      <td>0.800000</td>\n    </tr>\n    <tr>\n      <th>1</th>\n      <td>AU</td>\n      <td>22</td>\n      <td>30</td>\n      <td>0.733333</td>\n    </tr>\n    <tr>\n      <th>18</th>\n      <td>IN</td>\n      <td>178</td>\n      <td>263</td>\n      <td>0.676806</td>\n    </tr>\n    <tr>\n      <th>23</th>\n      <td>KR</td>\n      <td>2</td>\n      <td>3</td>\n      <td>0.666667</td>\n    </tr>\n    <tr>\n      <th>14</th>\n      <td>HK</td>\n      <td>4</td>\n      <td>6</td>\n      <td>0.666667</td>\n    </tr>\n    <tr>\n      <th>7</th>\n      <td>DE</td>\n      <td>2</td>\n      <td>3</td>\n      <td>0.666667</td>\n    </tr>\n    <tr>\n      <th>6</th>\n      <td>CN</td>\n      <td>19</td>\n      <td>29</td>\n      <td>0.655172</td>\n    </tr>\n    <tr>\n      <th>16</th>\n      <td>IE</td>\n      <td>7</td>\n      <td>11</td>\n      <td>0.636364</td>\n    </tr>\n    <tr>\n      <th>35</th>\n      <td>RU</td>\n      <td>17</td>\n      <td>29</td>\n      <td>0.586207</td>\n    </tr>\n    <tr>\n      <th>44</th>\n      <td>US</td>\n      <td>591</td>\n      <td>1025</td>\n      <td>0.576585</td>\n    </tr>\n    <tr>\n      <th>31</th>\n      <td>NZ</td>\n      <td>4</td>\n      <td>7</td>\n      <td>0.571429</td>\n    </tr>\n    <tr>\n      <th>12</th>\n      <td>GB</td>\n      <td>98</td>\n      <td>177</td>\n      <td>0.553672</td>\n    </tr>\n    <tr>\n      <th>0</th>\n      <td>AE</td>\n      <td>1</td>\n      <td>2</td>\n      <td>0.500000</td>\n    </tr>\n    <tr>\n      <th>5</th>\n      <td>CH</td>\n      <td>1</td>\n      <td>2</td>\n      <td>0.500000</td>\n    </tr>\n    <tr>\n      <th>47</th>\n      <td>ZW</td>\n      <td>1</td>\n      <td>2</td>\n      <td>0.500000</td>\n    </tr>\n    <tr>\n      <th>30</th>\n      <td>NG</td>\n      <td>66</td>\n      <td>165</td>\n      <td>0.400000</td>\n    </tr>\n    <tr>\n      <th>13</th>\n      <td>GH</td>\n      <td>5</td>\n      <td>13</td>\n      <td>0.384615</td>\n    </tr>\n    <tr>\n      <th>22</th>\n      <td>KP</td>\n      <td>1</td>\n      <td>3</td>\n      <td>0.333333</td>\n    </tr>\n    <tr>\n      <th>21</th>\n      <td>KE</td>\n      <td>70</td>\n      <td>229</td>\n      <td>0.305677</td>\n    </tr>\n    <tr>\n      <th>46</th>\n      <td>ZA</td>\n      <td>31</td>\n      <td>147</td>\n      <td>0.210884</td>\n    </tr>\n    <tr>\n      <th>17</th>\n      <td>IL</td>\n      <td>1</td>\n      <td>5</td>\n      <td>0.200000</td>\n    </tr>\n  </tbody>\n</table>\n</div>"
     },
     "execution_count": 352,
     "metadata": {},
     "output_type": "execute_result"
    }
   ],
   "source": [
    "# sort the states by percentage of refuted claims\n",
    "refuted_by_state = refuted_by_state.sort_values(by='percentage', ascending=False)\n",
    "refuted_by_state"
   ],
   "metadata": {
    "collapsed": false,
    "ExecuteTime": {
     "end_time": "2024-04-24T10:58:26.603575Z",
     "start_time": "2024-04-24T10:58:26.596850Z"
    }
   },
   "id": "673c0860829ab491",
   "execution_count": 352
  },
  {
   "cell_type": "code",
   "outputs": [
    {
     "data": {
      "text/plain": "   location_ISO_code  refuted  total  percentage\n24                LK       10     11    0.909091\n4                 CA        7      8    0.875000\n32                PH       29     34    0.852941\n1                 AU       22     30    0.733333\n18                IN      178    263    0.676806\n14                HK        4      6    0.666667\n6                 CN       19     29    0.655172\n16                IE        7     11    0.636364\n35                RU       17     29    0.586207\n44                US      591   1025    0.576585\n31                NZ        4      7    0.571429\n12                GB       98    177    0.553672\n30                NG       66    165    0.400000\n13                GH        5     13    0.384615\n21                KE       70    229    0.305677\n46                ZA       31    147    0.210884",
      "text/html": "<div>\n<style scoped>\n    .dataframe tbody tr th:only-of-type {\n        vertical-align: middle;\n    }\n\n    .dataframe tbody tr th {\n        vertical-align: top;\n    }\n\n    .dataframe thead th {\n        text-align: right;\n    }\n</style>\n<table border=\"1\" class=\"dataframe\">\n  <thead>\n    <tr style=\"text-align: right;\">\n      <th></th>\n      <th>location_ISO_code</th>\n      <th>refuted</th>\n      <th>total</th>\n      <th>percentage</th>\n    </tr>\n  </thead>\n  <tbody>\n    <tr>\n      <th>24</th>\n      <td>LK</td>\n      <td>10</td>\n      <td>11</td>\n      <td>0.909091</td>\n    </tr>\n    <tr>\n      <th>4</th>\n      <td>CA</td>\n      <td>7</td>\n      <td>8</td>\n      <td>0.875000</td>\n    </tr>\n    <tr>\n      <th>32</th>\n      <td>PH</td>\n      <td>29</td>\n      <td>34</td>\n      <td>0.852941</td>\n    </tr>\n    <tr>\n      <th>1</th>\n      <td>AU</td>\n      <td>22</td>\n      <td>30</td>\n      <td>0.733333</td>\n    </tr>\n    <tr>\n      <th>18</th>\n      <td>IN</td>\n      <td>178</td>\n      <td>263</td>\n      <td>0.676806</td>\n    </tr>\n    <tr>\n      <th>14</th>\n      <td>HK</td>\n      <td>4</td>\n      <td>6</td>\n      <td>0.666667</td>\n    </tr>\n    <tr>\n      <th>6</th>\n      <td>CN</td>\n      <td>19</td>\n      <td>29</td>\n      <td>0.655172</td>\n    </tr>\n    <tr>\n      <th>16</th>\n      <td>IE</td>\n      <td>7</td>\n      <td>11</td>\n      <td>0.636364</td>\n    </tr>\n    <tr>\n      <th>35</th>\n      <td>RU</td>\n      <td>17</td>\n      <td>29</td>\n      <td>0.586207</td>\n    </tr>\n    <tr>\n      <th>44</th>\n      <td>US</td>\n      <td>591</td>\n      <td>1025</td>\n      <td>0.576585</td>\n    </tr>\n    <tr>\n      <th>31</th>\n      <td>NZ</td>\n      <td>4</td>\n      <td>7</td>\n      <td>0.571429</td>\n    </tr>\n    <tr>\n      <th>12</th>\n      <td>GB</td>\n      <td>98</td>\n      <td>177</td>\n      <td>0.553672</td>\n    </tr>\n    <tr>\n      <th>30</th>\n      <td>NG</td>\n      <td>66</td>\n      <td>165</td>\n      <td>0.400000</td>\n    </tr>\n    <tr>\n      <th>13</th>\n      <td>GH</td>\n      <td>5</td>\n      <td>13</td>\n      <td>0.384615</td>\n    </tr>\n    <tr>\n      <th>21</th>\n      <td>KE</td>\n      <td>70</td>\n      <td>229</td>\n      <td>0.305677</td>\n    </tr>\n    <tr>\n      <th>46</th>\n      <td>ZA</td>\n      <td>31</td>\n      <td>147</td>\n      <td>0.210884</td>\n    </tr>\n  </tbody>\n</table>\n</div>"
     },
     "execution_count": 353,
     "metadata": {},
     "output_type": "execute_result"
    }
   ],
   "source": [
    "# filter the states with more than 50 claims\n",
    "refuted_by_state = refuted_by_state[refuted_by_state['total'] > 5]\n",
    "refuted_by_state"
   ],
   "metadata": {
    "collapsed": false,
    "ExecuteTime": {
     "end_time": "2024-04-24T10:58:26.828974Z",
     "start_time": "2024-04-24T10:58:26.824281Z"
    }
   },
   "id": "eaa2743300e32bf2",
   "execution_count": 353
  },
  {
   "cell_type": "code",
   "outputs": [],
   "source": [
    "# translate iso code using country converter to ISO-3\n",
    "iso2_states = np.array(refuted_by_state['location_ISO_code'])\n",
    "iso3_states = coco.convert(names=iso2_states, to='ISO3')"
   ],
   "metadata": {
    "collapsed": false,
    "ExecuteTime": {
     "end_time": "2024-04-24T10:58:27.079169Z",
     "start_time": "2024-04-24T10:58:27.037443Z"
    }
   },
   "id": "e026682e791025c",
   "execution_count": 354
  },
  {
   "cell_type": "code",
   "outputs": [],
   "source": [
    "# add the iso3 code to the dataframe using the correct order\n",
    "for i in range(len(iso3_states)):\n",
    "    refuted_by_state.loc[refuted_by_state['location_ISO_code'] == iso2_states[i], 'location_ISO_code'] = iso3_states[i]"
   ],
   "metadata": {
    "collapsed": false,
    "ExecuteTime": {
     "end_time": "2024-04-24T10:58:27.236940Z",
     "start_time": "2024-04-24T10:58:27.232286Z"
    }
   },
   "id": "2d04cd518be3fbc9",
   "execution_count": 355
  },
  {
   "cell_type": "code",
   "outputs": [
    {
     "data": {
      "application/vnd.plotly.v1+json": {
       "data": [
        {
         "coloraxis": "coloraxis",
         "geo": "geo",
         "hovertemplate": "<b>%{hovertext}</b><br><br>location_ISO_code=%{location}<br>percentage=%{z}<extra></extra>",
         "hovertext": [
          "LKA",
          "CAN",
          "PHL",
          "AUS",
          "IND",
          "HKG",
          "CHN",
          "IRL",
          "RUS",
          "USA",
          "NZL",
          "GBR",
          "NGA",
          "GHA",
          "KEN",
          "ZAF"
         ],
         "locationmode": "ISO-3",
         "locations": [
          "LKA",
          "CAN",
          "PHL",
          "AUS",
          "IND",
          "HKG",
          "CHN",
          "IRL",
          "RUS",
          "USA",
          "NZL",
          "GBR",
          "NGA",
          "GHA",
          "KEN",
          "ZAF"
         ],
         "name": "",
         "z": [
          0.9090909090909091,
          0.875,
          0.8529411764705882,
          0.7333333333333333,
          0.6768060836501901,
          0.6666666666666666,
          0.6551724137931034,
          0.6363636363636364,
          0.5862068965517241,
          0.5765853658536585,
          0.5714285714285714,
          0.5536723163841808,
          0.4,
          0.38461538461538464,
          0.3056768558951965,
          0.2108843537414966
         ],
         "type": "choropleth"
        }
       ],
       "layout": {
        "template": {
         "data": {
          "histogram2dcontour": [
           {
            "type": "histogram2dcontour",
            "colorbar": {
             "outlinewidth": 0,
             "ticks": ""
            },
            "colorscale": [
             [
              0.0,
              "#0d0887"
             ],
             [
              0.1111111111111111,
              "#46039f"
             ],
             [
              0.2222222222222222,
              "#7201a8"
             ],
             [
              0.3333333333333333,
              "#9c179e"
             ],
             [
              0.4444444444444444,
              "#bd3786"
             ],
             [
              0.5555555555555556,
              "#d8576b"
             ],
             [
              0.6666666666666666,
              "#ed7953"
             ],
             [
              0.7777777777777778,
              "#fb9f3a"
             ],
             [
              0.8888888888888888,
              "#fdca26"
             ],
             [
              1.0,
              "#f0f921"
             ]
            ]
           }
          ],
          "choropleth": [
           {
            "type": "choropleth",
            "colorbar": {
             "outlinewidth": 0,
             "ticks": ""
            }
           }
          ],
          "histogram2d": [
           {
            "type": "histogram2d",
            "colorbar": {
             "outlinewidth": 0,
             "ticks": ""
            },
            "colorscale": [
             [
              0.0,
              "#0d0887"
             ],
             [
              0.1111111111111111,
              "#46039f"
             ],
             [
              0.2222222222222222,
              "#7201a8"
             ],
             [
              0.3333333333333333,
              "#9c179e"
             ],
             [
              0.4444444444444444,
              "#bd3786"
             ],
             [
              0.5555555555555556,
              "#d8576b"
             ],
             [
              0.6666666666666666,
              "#ed7953"
             ],
             [
              0.7777777777777778,
              "#fb9f3a"
             ],
             [
              0.8888888888888888,
              "#fdca26"
             ],
             [
              1.0,
              "#f0f921"
             ]
            ]
           }
          ],
          "heatmap": [
           {
            "type": "heatmap",
            "colorbar": {
             "outlinewidth": 0,
             "ticks": ""
            },
            "colorscale": [
             [
              0.0,
              "#0d0887"
             ],
             [
              0.1111111111111111,
              "#46039f"
             ],
             [
              0.2222222222222222,
              "#7201a8"
             ],
             [
              0.3333333333333333,
              "#9c179e"
             ],
             [
              0.4444444444444444,
              "#bd3786"
             ],
             [
              0.5555555555555556,
              "#d8576b"
             ],
             [
              0.6666666666666666,
              "#ed7953"
             ],
             [
              0.7777777777777778,
              "#fb9f3a"
             ],
             [
              0.8888888888888888,
              "#fdca26"
             ],
             [
              1.0,
              "#f0f921"
             ]
            ]
           }
          ],
          "heatmapgl": [
           {
            "type": "heatmapgl",
            "colorbar": {
             "outlinewidth": 0,
             "ticks": ""
            },
            "colorscale": [
             [
              0.0,
              "#0d0887"
             ],
             [
              0.1111111111111111,
              "#46039f"
             ],
             [
              0.2222222222222222,
              "#7201a8"
             ],
             [
              0.3333333333333333,
              "#9c179e"
             ],
             [
              0.4444444444444444,
              "#bd3786"
             ],
             [
              0.5555555555555556,
              "#d8576b"
             ],
             [
              0.6666666666666666,
              "#ed7953"
             ],
             [
              0.7777777777777778,
              "#fb9f3a"
             ],
             [
              0.8888888888888888,
              "#fdca26"
             ],
             [
              1.0,
              "#f0f921"
             ]
            ]
           }
          ],
          "contourcarpet": [
           {
            "type": "contourcarpet",
            "colorbar": {
             "outlinewidth": 0,
             "ticks": ""
            }
           }
          ],
          "contour": [
           {
            "type": "contour",
            "colorbar": {
             "outlinewidth": 0,
             "ticks": ""
            },
            "colorscale": [
             [
              0.0,
              "#0d0887"
             ],
             [
              0.1111111111111111,
              "#46039f"
             ],
             [
              0.2222222222222222,
              "#7201a8"
             ],
             [
              0.3333333333333333,
              "#9c179e"
             ],
             [
              0.4444444444444444,
              "#bd3786"
             ],
             [
              0.5555555555555556,
              "#d8576b"
             ],
             [
              0.6666666666666666,
              "#ed7953"
             ],
             [
              0.7777777777777778,
              "#fb9f3a"
             ],
             [
              0.8888888888888888,
              "#fdca26"
             ],
             [
              1.0,
              "#f0f921"
             ]
            ]
           }
          ],
          "surface": [
           {
            "type": "surface",
            "colorbar": {
             "outlinewidth": 0,
             "ticks": ""
            },
            "colorscale": [
             [
              0.0,
              "#0d0887"
             ],
             [
              0.1111111111111111,
              "#46039f"
             ],
             [
              0.2222222222222222,
              "#7201a8"
             ],
             [
              0.3333333333333333,
              "#9c179e"
             ],
             [
              0.4444444444444444,
              "#bd3786"
             ],
             [
              0.5555555555555556,
              "#d8576b"
             ],
             [
              0.6666666666666666,
              "#ed7953"
             ],
             [
              0.7777777777777778,
              "#fb9f3a"
             ],
             [
              0.8888888888888888,
              "#fdca26"
             ],
             [
              1.0,
              "#f0f921"
             ]
            ]
           }
          ],
          "mesh3d": [
           {
            "type": "mesh3d",
            "colorbar": {
             "outlinewidth": 0,
             "ticks": ""
            }
           }
          ],
          "scatter": [
           {
            "marker": {
             "line": {
              "color": "#283442"
             }
            },
            "type": "scatter"
           }
          ],
          "parcoords": [
           {
            "type": "parcoords",
            "line": {
             "colorbar": {
              "outlinewidth": 0,
              "ticks": ""
             }
            }
           }
          ],
          "scatterpolargl": [
           {
            "type": "scatterpolargl",
            "marker": {
             "colorbar": {
              "outlinewidth": 0,
              "ticks": ""
             }
            }
           }
          ],
          "bar": [
           {
            "error_x": {
             "color": "#f2f5fa"
            },
            "error_y": {
             "color": "#f2f5fa"
            },
            "marker": {
             "line": {
              "color": "rgb(17,17,17)",
              "width": 0.5
             },
             "pattern": {
              "fillmode": "overlay",
              "size": 10,
              "solidity": 0.2
             }
            },
            "type": "bar"
           }
          ],
          "scattergeo": [
           {
            "type": "scattergeo",
            "marker": {
             "colorbar": {
              "outlinewidth": 0,
              "ticks": ""
             }
            }
           }
          ],
          "scatterpolar": [
           {
            "type": "scatterpolar",
            "marker": {
             "colorbar": {
              "outlinewidth": 0,
              "ticks": ""
             }
            }
           }
          ],
          "histogram": [
           {
            "marker": {
             "pattern": {
              "fillmode": "overlay",
              "size": 10,
              "solidity": 0.2
             }
            },
            "type": "histogram"
           }
          ],
          "scattergl": [
           {
            "marker": {
             "line": {
              "color": "#283442"
             }
            },
            "type": "scattergl"
           }
          ],
          "scatter3d": [
           {
            "type": "scatter3d",
            "line": {
             "colorbar": {
              "outlinewidth": 0,
              "ticks": ""
             }
            },
            "marker": {
             "colorbar": {
              "outlinewidth": 0,
              "ticks": ""
             }
            }
           }
          ],
          "scattermapbox": [
           {
            "type": "scattermapbox",
            "marker": {
             "colorbar": {
              "outlinewidth": 0,
              "ticks": ""
             }
            }
           }
          ],
          "scatterternary": [
           {
            "type": "scatterternary",
            "marker": {
             "colorbar": {
              "outlinewidth": 0,
              "ticks": ""
             }
            }
           }
          ],
          "scattercarpet": [
           {
            "type": "scattercarpet",
            "marker": {
             "colorbar": {
              "outlinewidth": 0,
              "ticks": ""
             }
            }
           }
          ],
          "carpet": [
           {
            "aaxis": {
             "endlinecolor": "#A2B1C6",
             "gridcolor": "#506784",
             "linecolor": "#506784",
             "minorgridcolor": "#506784",
             "startlinecolor": "#A2B1C6"
            },
            "baxis": {
             "endlinecolor": "#A2B1C6",
             "gridcolor": "#506784",
             "linecolor": "#506784",
             "minorgridcolor": "#506784",
             "startlinecolor": "#A2B1C6"
            },
            "type": "carpet"
           }
          ],
          "table": [
           {
            "cells": {
             "fill": {
              "color": "#506784"
             },
             "line": {
              "color": "rgb(17,17,17)"
             }
            },
            "header": {
             "fill": {
              "color": "#2a3f5f"
             },
             "line": {
              "color": "rgb(17,17,17)"
             }
            },
            "type": "table"
           }
          ],
          "barpolar": [
           {
            "marker": {
             "line": {
              "color": "rgb(17,17,17)",
              "width": 0.5
             },
             "pattern": {
              "fillmode": "overlay",
              "size": 10,
              "solidity": 0.2
             }
            },
            "type": "barpolar"
           }
          ],
          "pie": [
           {
            "automargin": true,
            "type": "pie"
           }
          ]
         },
         "layout": {
          "autotypenumbers": "strict",
          "colorway": [
           "#636efa",
           "#EF553B",
           "#00cc96",
           "#ab63fa",
           "#FFA15A",
           "#19d3f3",
           "#FF6692",
           "#B6E880",
           "#FF97FF",
           "#FECB52"
          ],
          "font": {
           "color": "#f2f5fa"
          },
          "hovermode": "closest",
          "hoverlabel": {
           "align": "left"
          },
          "paper_bgcolor": "rgb(17,17,17)",
          "plot_bgcolor": "rgb(17,17,17)",
          "polar": {
           "bgcolor": "rgb(17,17,17)",
           "angularaxis": {
            "gridcolor": "#506784",
            "linecolor": "#506784",
            "ticks": ""
           },
           "radialaxis": {
            "gridcolor": "#506784",
            "linecolor": "#506784",
            "ticks": ""
           }
          },
          "ternary": {
           "bgcolor": "rgb(17,17,17)",
           "aaxis": {
            "gridcolor": "#506784",
            "linecolor": "#506784",
            "ticks": ""
           },
           "baxis": {
            "gridcolor": "#506784",
            "linecolor": "#506784",
            "ticks": ""
           },
           "caxis": {
            "gridcolor": "#506784",
            "linecolor": "#506784",
            "ticks": ""
           }
          },
          "coloraxis": {
           "colorbar": {
            "outlinewidth": 0,
            "ticks": ""
           }
          },
          "colorscale": {
           "sequential": [
            [
             0.0,
             "#0d0887"
            ],
            [
             0.1111111111111111,
             "#46039f"
            ],
            [
             0.2222222222222222,
             "#7201a8"
            ],
            [
             0.3333333333333333,
             "#9c179e"
            ],
            [
             0.4444444444444444,
             "#bd3786"
            ],
            [
             0.5555555555555556,
             "#d8576b"
            ],
            [
             0.6666666666666666,
             "#ed7953"
            ],
            [
             0.7777777777777778,
             "#fb9f3a"
            ],
            [
             0.8888888888888888,
             "#fdca26"
            ],
            [
             1.0,
             "#f0f921"
            ]
           ],
           "sequentialminus": [
            [
             0.0,
             "#0d0887"
            ],
            [
             0.1111111111111111,
             "#46039f"
            ],
            [
             0.2222222222222222,
             "#7201a8"
            ],
            [
             0.3333333333333333,
             "#9c179e"
            ],
            [
             0.4444444444444444,
             "#bd3786"
            ],
            [
             0.5555555555555556,
             "#d8576b"
            ],
            [
             0.6666666666666666,
             "#ed7953"
            ],
            [
             0.7777777777777778,
             "#fb9f3a"
            ],
            [
             0.8888888888888888,
             "#fdca26"
            ],
            [
             1.0,
             "#f0f921"
            ]
           ],
           "diverging": [
            [
             0,
             "#8e0152"
            ],
            [
             0.1,
             "#c51b7d"
            ],
            [
             0.2,
             "#de77ae"
            ],
            [
             0.3,
             "#f1b6da"
            ],
            [
             0.4,
             "#fde0ef"
            ],
            [
             0.5,
             "#f7f7f7"
            ],
            [
             0.6,
             "#e6f5d0"
            ],
            [
             0.7,
             "#b8e186"
            ],
            [
             0.8,
             "#7fbc41"
            ],
            [
             0.9,
             "#4d9221"
            ],
            [
             1,
             "#276419"
            ]
           ]
          },
          "xaxis": {
           "gridcolor": "#283442",
           "linecolor": "#506784",
           "ticks": "",
           "title": {
            "standoff": 15
           },
           "zerolinecolor": "#283442",
           "automargin": true,
           "zerolinewidth": 2
          },
          "yaxis": {
           "gridcolor": "#283442",
           "linecolor": "#506784",
           "ticks": "",
           "title": {
            "standoff": 15
           },
           "zerolinecolor": "#283442",
           "automargin": true,
           "zerolinewidth": 2
          },
          "scene": {
           "xaxis": {
            "backgroundcolor": "rgb(17,17,17)",
            "gridcolor": "#506784",
            "linecolor": "#506784",
            "showbackground": true,
            "ticks": "",
            "zerolinecolor": "#C8D4E3",
            "gridwidth": 2
           },
           "yaxis": {
            "backgroundcolor": "rgb(17,17,17)",
            "gridcolor": "#506784",
            "linecolor": "#506784",
            "showbackground": true,
            "ticks": "",
            "zerolinecolor": "#C8D4E3",
            "gridwidth": 2
           },
           "zaxis": {
            "backgroundcolor": "rgb(17,17,17)",
            "gridcolor": "#506784",
            "linecolor": "#506784",
            "showbackground": true,
            "ticks": "",
            "zerolinecolor": "#C8D4E3",
            "gridwidth": 2
           }
          },
          "shapedefaults": {
           "line": {
            "color": "#f2f5fa"
           }
          },
          "annotationdefaults": {
           "arrowcolor": "#f2f5fa",
           "arrowhead": 0,
           "arrowwidth": 1
          },
          "geo": {
           "bgcolor": "rgb(17,17,17)",
           "landcolor": "rgb(17,17,17)",
           "subunitcolor": "#506784",
           "showland": true,
           "showlakes": true,
           "lakecolor": "rgb(17,17,17)"
          },
          "title": {
           "x": 0.05
          },
          "updatemenudefaults": {
           "bgcolor": "#506784",
           "borderwidth": 0
          },
          "sliderdefaults": {
           "bgcolor": "#C8D4E3",
           "borderwidth": 1,
           "bordercolor": "rgb(17,17,17)",
           "tickwidth": 0
          },
          "mapbox": {
           "style": "dark"
          }
         }
        },
        "geo": {
         "domain": {
          "x": [
           0.0,
           1.0
          ],
          "y": [
           0.0,
           1.0
          ]
         },
         "center": {}
        },
        "coloraxis": {
         "colorbar": {
          "title": {
           "text": "percentage"
          }
         },
         "colorscale": [
          [
           0.0,
           "#440154"
          ],
          [
           0.1111111111111111,
           "#482878"
          ],
          [
           0.2222222222222222,
           "#3e4989"
          ],
          [
           0.3333333333333333,
           "#31688e"
          ],
          [
           0.4444444444444444,
           "#26828e"
          ],
          [
           0.5555555555555556,
           "#1f9e89"
          ],
          [
           0.6666666666666666,
           "#35b779"
          ],
          [
           0.7777777777777778,
           "#6ece58"
          ],
          [
           0.8888888888888888,
           "#b5de2b"
          ],
          [
           1.0,
           "#fde725"
          ]
         ]
        },
        "legend": {
         "tracegroupgap": 0
        },
        "title": {
         "text": "Percentage of refuted claims by state"
        }
       },
       "config": {
        "plotlyServerURL": "https://plot.ly"
       }
      },
      "text/html": "<div>                            <div id=\"1cac64dd-e3ea-4ae7-94f2-999402276849\" class=\"plotly-graph-div\" style=\"height:525px; width:100%;\"></div>            <script type=\"text/javascript\">                require([\"plotly\"], function(Plotly) {                    window.PLOTLYENV=window.PLOTLYENV || {};                                    if (document.getElementById(\"1cac64dd-e3ea-4ae7-94f2-999402276849\")) {                    Plotly.newPlot(                        \"1cac64dd-e3ea-4ae7-94f2-999402276849\",                        [{\"coloraxis\":\"coloraxis\",\"geo\":\"geo\",\"hovertemplate\":\"\\u003cb\\u003e%{hovertext}\\u003c\\u002fb\\u003e\\u003cbr\\u003e\\u003cbr\\u003elocation_ISO_code=%{location}\\u003cbr\\u003epercentage=%{z}\\u003cextra\\u003e\\u003c\\u002fextra\\u003e\",\"hovertext\":[\"LKA\",\"CAN\",\"PHL\",\"AUS\",\"IND\",\"HKG\",\"CHN\",\"IRL\",\"RUS\",\"USA\",\"NZL\",\"GBR\",\"NGA\",\"GHA\",\"KEN\",\"ZAF\"],\"locationmode\":\"ISO-3\",\"locations\":[\"LKA\",\"CAN\",\"PHL\",\"AUS\",\"IND\",\"HKG\",\"CHN\",\"IRL\",\"RUS\",\"USA\",\"NZL\",\"GBR\",\"NGA\",\"GHA\",\"KEN\",\"ZAF\"],\"name\":\"\",\"z\":[0.9090909090909091,0.875,0.8529411764705882,0.7333333333333333,0.6768060836501901,0.6666666666666666,0.6551724137931034,0.6363636363636364,0.5862068965517241,0.5765853658536585,0.5714285714285714,0.5536723163841808,0.4,0.38461538461538464,0.3056768558951965,0.2108843537414966],\"type\":\"choropleth\"}],                        {\"template\":{\"data\":{\"histogram2dcontour\":[{\"type\":\"histogram2dcontour\",\"colorbar\":{\"outlinewidth\":0,\"ticks\":\"\"},\"colorscale\":[[0.0,\"#0d0887\"],[0.1111111111111111,\"#46039f\"],[0.2222222222222222,\"#7201a8\"],[0.3333333333333333,\"#9c179e\"],[0.4444444444444444,\"#bd3786\"],[0.5555555555555556,\"#d8576b\"],[0.6666666666666666,\"#ed7953\"],[0.7777777777777778,\"#fb9f3a\"],[0.8888888888888888,\"#fdca26\"],[1.0,\"#f0f921\"]]}],\"choropleth\":[{\"type\":\"choropleth\",\"colorbar\":{\"outlinewidth\":0,\"ticks\":\"\"}}],\"histogram2d\":[{\"type\":\"histogram2d\",\"colorbar\":{\"outlinewidth\":0,\"ticks\":\"\"},\"colorscale\":[[0.0,\"#0d0887\"],[0.1111111111111111,\"#46039f\"],[0.2222222222222222,\"#7201a8\"],[0.3333333333333333,\"#9c179e\"],[0.4444444444444444,\"#bd3786\"],[0.5555555555555556,\"#d8576b\"],[0.6666666666666666,\"#ed7953\"],[0.7777777777777778,\"#fb9f3a\"],[0.8888888888888888,\"#fdca26\"],[1.0,\"#f0f921\"]]}],\"heatmap\":[{\"type\":\"heatmap\",\"colorbar\":{\"outlinewidth\":0,\"ticks\":\"\"},\"colorscale\":[[0.0,\"#0d0887\"],[0.1111111111111111,\"#46039f\"],[0.2222222222222222,\"#7201a8\"],[0.3333333333333333,\"#9c179e\"],[0.4444444444444444,\"#bd3786\"],[0.5555555555555556,\"#d8576b\"],[0.6666666666666666,\"#ed7953\"],[0.7777777777777778,\"#fb9f3a\"],[0.8888888888888888,\"#fdca26\"],[1.0,\"#f0f921\"]]}],\"heatmapgl\":[{\"type\":\"heatmapgl\",\"colorbar\":{\"outlinewidth\":0,\"ticks\":\"\"},\"colorscale\":[[0.0,\"#0d0887\"],[0.1111111111111111,\"#46039f\"],[0.2222222222222222,\"#7201a8\"],[0.3333333333333333,\"#9c179e\"],[0.4444444444444444,\"#bd3786\"],[0.5555555555555556,\"#d8576b\"],[0.6666666666666666,\"#ed7953\"],[0.7777777777777778,\"#fb9f3a\"],[0.8888888888888888,\"#fdca26\"],[1.0,\"#f0f921\"]]}],\"contourcarpet\":[{\"type\":\"contourcarpet\",\"colorbar\":{\"outlinewidth\":0,\"ticks\":\"\"}}],\"contour\":[{\"type\":\"contour\",\"colorbar\":{\"outlinewidth\":0,\"ticks\":\"\"},\"colorscale\":[[0.0,\"#0d0887\"],[0.1111111111111111,\"#46039f\"],[0.2222222222222222,\"#7201a8\"],[0.3333333333333333,\"#9c179e\"],[0.4444444444444444,\"#bd3786\"],[0.5555555555555556,\"#d8576b\"],[0.6666666666666666,\"#ed7953\"],[0.7777777777777778,\"#fb9f3a\"],[0.8888888888888888,\"#fdca26\"],[1.0,\"#f0f921\"]]}],\"surface\":[{\"type\":\"surface\",\"colorbar\":{\"outlinewidth\":0,\"ticks\":\"\"},\"colorscale\":[[0.0,\"#0d0887\"],[0.1111111111111111,\"#46039f\"],[0.2222222222222222,\"#7201a8\"],[0.3333333333333333,\"#9c179e\"],[0.4444444444444444,\"#bd3786\"],[0.5555555555555556,\"#d8576b\"],[0.6666666666666666,\"#ed7953\"],[0.7777777777777778,\"#fb9f3a\"],[0.8888888888888888,\"#fdca26\"],[1.0,\"#f0f921\"]]}],\"mesh3d\":[{\"type\":\"mesh3d\",\"colorbar\":{\"outlinewidth\":0,\"ticks\":\"\"}}],\"scatter\":[{\"marker\":{\"line\":{\"color\":\"#283442\"}},\"type\":\"scatter\"}],\"parcoords\":[{\"type\":\"parcoords\",\"line\":{\"colorbar\":{\"outlinewidth\":0,\"ticks\":\"\"}}}],\"scatterpolargl\":[{\"type\":\"scatterpolargl\",\"marker\":{\"colorbar\":{\"outlinewidth\":0,\"ticks\":\"\"}}}],\"bar\":[{\"error_x\":{\"color\":\"#f2f5fa\"},\"error_y\":{\"color\":\"#f2f5fa\"},\"marker\":{\"line\":{\"color\":\"rgb(17,17,17)\",\"width\":0.5},\"pattern\":{\"fillmode\":\"overlay\",\"size\":10,\"solidity\":0.2}},\"type\":\"bar\"}],\"scattergeo\":[{\"type\":\"scattergeo\",\"marker\":{\"colorbar\":{\"outlinewidth\":0,\"ticks\":\"\"}}}],\"scatterpolar\":[{\"type\":\"scatterpolar\",\"marker\":{\"colorbar\":{\"outlinewidth\":0,\"ticks\":\"\"}}}],\"histogram\":[{\"marker\":{\"pattern\":{\"fillmode\":\"overlay\",\"size\":10,\"solidity\":0.2}},\"type\":\"histogram\"}],\"scattergl\":[{\"marker\":{\"line\":{\"color\":\"#283442\"}},\"type\":\"scattergl\"}],\"scatter3d\":[{\"type\":\"scatter3d\",\"line\":{\"colorbar\":{\"outlinewidth\":0,\"ticks\":\"\"}},\"marker\":{\"colorbar\":{\"outlinewidth\":0,\"ticks\":\"\"}}}],\"scattermapbox\":[{\"type\":\"scattermapbox\",\"marker\":{\"colorbar\":{\"outlinewidth\":0,\"ticks\":\"\"}}}],\"scatterternary\":[{\"type\":\"scatterternary\",\"marker\":{\"colorbar\":{\"outlinewidth\":0,\"ticks\":\"\"}}}],\"scattercarpet\":[{\"type\":\"scattercarpet\",\"marker\":{\"colorbar\":{\"outlinewidth\":0,\"ticks\":\"\"}}}],\"carpet\":[{\"aaxis\":{\"endlinecolor\":\"#A2B1C6\",\"gridcolor\":\"#506784\",\"linecolor\":\"#506784\",\"minorgridcolor\":\"#506784\",\"startlinecolor\":\"#A2B1C6\"},\"baxis\":{\"endlinecolor\":\"#A2B1C6\",\"gridcolor\":\"#506784\",\"linecolor\":\"#506784\",\"minorgridcolor\":\"#506784\",\"startlinecolor\":\"#A2B1C6\"},\"type\":\"carpet\"}],\"table\":[{\"cells\":{\"fill\":{\"color\":\"#506784\"},\"line\":{\"color\":\"rgb(17,17,17)\"}},\"header\":{\"fill\":{\"color\":\"#2a3f5f\"},\"line\":{\"color\":\"rgb(17,17,17)\"}},\"type\":\"table\"}],\"barpolar\":[{\"marker\":{\"line\":{\"color\":\"rgb(17,17,17)\",\"width\":0.5},\"pattern\":{\"fillmode\":\"overlay\",\"size\":10,\"solidity\":0.2}},\"type\":\"barpolar\"}],\"pie\":[{\"automargin\":true,\"type\":\"pie\"}]},\"layout\":{\"autotypenumbers\":\"strict\",\"colorway\":[\"#636efa\",\"#EF553B\",\"#00cc96\",\"#ab63fa\",\"#FFA15A\",\"#19d3f3\",\"#FF6692\",\"#B6E880\",\"#FF97FF\",\"#FECB52\"],\"font\":{\"color\":\"#f2f5fa\"},\"hovermode\":\"closest\",\"hoverlabel\":{\"align\":\"left\"},\"paper_bgcolor\":\"rgb(17,17,17)\",\"plot_bgcolor\":\"rgb(17,17,17)\",\"polar\":{\"bgcolor\":\"rgb(17,17,17)\",\"angularaxis\":{\"gridcolor\":\"#506784\",\"linecolor\":\"#506784\",\"ticks\":\"\"},\"radialaxis\":{\"gridcolor\":\"#506784\",\"linecolor\":\"#506784\",\"ticks\":\"\"}},\"ternary\":{\"bgcolor\":\"rgb(17,17,17)\",\"aaxis\":{\"gridcolor\":\"#506784\",\"linecolor\":\"#506784\",\"ticks\":\"\"},\"baxis\":{\"gridcolor\":\"#506784\",\"linecolor\":\"#506784\",\"ticks\":\"\"},\"caxis\":{\"gridcolor\":\"#506784\",\"linecolor\":\"#506784\",\"ticks\":\"\"}},\"coloraxis\":{\"colorbar\":{\"outlinewidth\":0,\"ticks\":\"\"}},\"colorscale\":{\"sequential\":[[0.0,\"#0d0887\"],[0.1111111111111111,\"#46039f\"],[0.2222222222222222,\"#7201a8\"],[0.3333333333333333,\"#9c179e\"],[0.4444444444444444,\"#bd3786\"],[0.5555555555555556,\"#d8576b\"],[0.6666666666666666,\"#ed7953\"],[0.7777777777777778,\"#fb9f3a\"],[0.8888888888888888,\"#fdca26\"],[1.0,\"#f0f921\"]],\"sequentialminus\":[[0.0,\"#0d0887\"],[0.1111111111111111,\"#46039f\"],[0.2222222222222222,\"#7201a8\"],[0.3333333333333333,\"#9c179e\"],[0.4444444444444444,\"#bd3786\"],[0.5555555555555556,\"#d8576b\"],[0.6666666666666666,\"#ed7953\"],[0.7777777777777778,\"#fb9f3a\"],[0.8888888888888888,\"#fdca26\"],[1.0,\"#f0f921\"]],\"diverging\":[[0,\"#8e0152\"],[0.1,\"#c51b7d\"],[0.2,\"#de77ae\"],[0.3,\"#f1b6da\"],[0.4,\"#fde0ef\"],[0.5,\"#f7f7f7\"],[0.6,\"#e6f5d0\"],[0.7,\"#b8e186\"],[0.8,\"#7fbc41\"],[0.9,\"#4d9221\"],[1,\"#276419\"]]},\"xaxis\":{\"gridcolor\":\"#283442\",\"linecolor\":\"#506784\",\"ticks\":\"\",\"title\":{\"standoff\":15},\"zerolinecolor\":\"#283442\",\"automargin\":true,\"zerolinewidth\":2},\"yaxis\":{\"gridcolor\":\"#283442\",\"linecolor\":\"#506784\",\"ticks\":\"\",\"title\":{\"standoff\":15},\"zerolinecolor\":\"#283442\",\"automargin\":true,\"zerolinewidth\":2},\"scene\":{\"xaxis\":{\"backgroundcolor\":\"rgb(17,17,17)\",\"gridcolor\":\"#506784\",\"linecolor\":\"#506784\",\"showbackground\":true,\"ticks\":\"\",\"zerolinecolor\":\"#C8D4E3\",\"gridwidth\":2},\"yaxis\":{\"backgroundcolor\":\"rgb(17,17,17)\",\"gridcolor\":\"#506784\",\"linecolor\":\"#506784\",\"showbackground\":true,\"ticks\":\"\",\"zerolinecolor\":\"#C8D4E3\",\"gridwidth\":2},\"zaxis\":{\"backgroundcolor\":\"rgb(17,17,17)\",\"gridcolor\":\"#506784\",\"linecolor\":\"#506784\",\"showbackground\":true,\"ticks\":\"\",\"zerolinecolor\":\"#C8D4E3\",\"gridwidth\":2}},\"shapedefaults\":{\"line\":{\"color\":\"#f2f5fa\"}},\"annotationdefaults\":{\"arrowcolor\":\"#f2f5fa\",\"arrowhead\":0,\"arrowwidth\":1},\"geo\":{\"bgcolor\":\"rgb(17,17,17)\",\"landcolor\":\"rgb(17,17,17)\",\"subunitcolor\":\"#506784\",\"showland\":true,\"showlakes\":true,\"lakecolor\":\"rgb(17,17,17)\"},\"title\":{\"x\":0.05},\"updatemenudefaults\":{\"bgcolor\":\"#506784\",\"borderwidth\":0},\"sliderdefaults\":{\"bgcolor\":\"#C8D4E3\",\"borderwidth\":1,\"bordercolor\":\"rgb(17,17,17)\",\"tickwidth\":0},\"mapbox\":{\"style\":\"dark\"}}},\"geo\":{\"domain\":{\"x\":[0.0,1.0],\"y\":[0.0,1.0]},\"center\":{}},\"coloraxis\":{\"colorbar\":{\"title\":{\"text\":\"percentage\"}},\"colorscale\":[[0.0,\"#440154\"],[0.1111111111111111,\"#482878\"],[0.2222222222222222,\"#3e4989\"],[0.3333333333333333,\"#31688e\"],[0.4444444444444444,\"#26828e\"],[0.5555555555555556,\"#1f9e89\"],[0.6666666666666666,\"#35b779\"],[0.7777777777777778,\"#6ece58\"],[0.8888888888888888,\"#b5de2b\"],[1.0,\"#fde725\"]]},\"legend\":{\"tracegroupgap\":0},\"title\":{\"text\":\"Percentage of refuted claims by state\"}},                        {\"responsive\": true}                    ).then(function(){\n                            \nvar gd = document.getElementById('1cac64dd-e3ea-4ae7-94f2-999402276849');\nvar x = new MutationObserver(function (mutations, observer) {{\n        var display = window.getComputedStyle(gd).display;\n        if (!display || display === 'none') {{\n            console.log([gd, 'removed!']);\n            Plotly.purge(gd);\n            observer.disconnect();\n        }}\n}});\n\n// Listen for the removal of the full notebook cells\nvar notebookContainer = gd.closest('#notebook-container');\nif (notebookContainer) {{\n    x.observe(notebookContainer, {childList: true});\n}}\n\n// Listen for the clearing of the current output cell\nvar outputEl = gd.closest('.output');\nif (outputEl) {{\n    x.observe(outputEl, {childList: true});\n}}\n\n                        })                };                });            </script>        </div>"
     },
     "metadata": {},
     "output_type": "display_data"
    }
   ],
   "source": [
    "# build a map with the percentage of refuted claims by state\n",
    "fig = px.choropleth(refuted_by_state, locations='location_ISO_code', locationmode='ISO-3', color='percentage', hover_name='location_ISO_code', color_continuous_scale='Viridis', title='Percentage of refuted claims by state')\n",
    "fig.show()"
   ],
   "metadata": {
    "collapsed": false,
    "ExecuteTime": {
     "end_time": "2024-04-24T10:58:27.459422Z",
     "start_time": "2024-04-24T10:58:27.436154Z"
    }
   },
   "id": "80596206d6b0d867",
   "execution_count": 356
  },
  {
   "cell_type": "markdown",
   "source": [
    "### Claims by Speaker"
   ],
   "metadata": {
    "collapsed": false
   },
   "id": "94b94ee33d9736c2"
  },
  {
   "cell_type": "code",
   "outputs": [
    {
     "data": {
      "text/plain": "                           speaker  count\n0                        \"crystal,      1\n1                     .deborahbirx      1\n2                   .jeonkwang-hun      1\n3                    .juliusokojie      1\n4                    .mattmccarthy      1\n..                             ...    ...\n852            प्रशान्तिन्यूज़पेपर      1\n853                       අපිහෙළයෝ      1\n854          රොබින්හුඩ්-robinhood      1\n855  හොරොව්පතානපාරම්පරිකහෙළවෙදගෙදර      1\n856                         ‎emmy‎      1\n\n[857 rows x 2 columns]",
      "text/html": "<div>\n<style scoped>\n    .dataframe tbody tr th:only-of-type {\n        vertical-align: middle;\n    }\n\n    .dataframe tbody tr th {\n        vertical-align: top;\n    }\n\n    .dataframe thead th {\n        text-align: right;\n    }\n</style>\n<table border=\"1\" class=\"dataframe\">\n  <thead>\n    <tr style=\"text-align: right;\">\n      <th></th>\n      <th>speaker</th>\n      <th>count</th>\n    </tr>\n  </thead>\n  <tbody>\n    <tr>\n      <th>0</th>\n      <td>\"crystal,</td>\n      <td>1</td>\n    </tr>\n    <tr>\n      <th>1</th>\n      <td>.deborahbirx</td>\n      <td>1</td>\n    </tr>\n    <tr>\n      <th>2</th>\n      <td>.jeonkwang-hun</td>\n      <td>1</td>\n    </tr>\n    <tr>\n      <th>3</th>\n      <td>.juliusokojie</td>\n      <td>1</td>\n    </tr>\n    <tr>\n      <th>4</th>\n      <td>.mattmccarthy</td>\n      <td>1</td>\n    </tr>\n    <tr>\n      <th>...</th>\n      <td>...</td>\n      <td>...</td>\n    </tr>\n    <tr>\n      <th>852</th>\n      <td>प्रशान्तिन्यूज़पेपर</td>\n      <td>1</td>\n    </tr>\n    <tr>\n      <th>853</th>\n      <td>අපිහෙළයෝ</td>\n      <td>1</td>\n    </tr>\n    <tr>\n      <th>854</th>\n      <td>රොබින්හුඩ්-robinhood</td>\n      <td>1</td>\n    </tr>\n    <tr>\n      <th>855</th>\n      <td>හොරොව්පතානපාරම්පරිකහෙළවෙදගෙදර</td>\n      <td>1</td>\n    </tr>\n    <tr>\n      <th>856</th>\n      <td>‎emmy‎</td>\n      <td>1</td>\n    </tr>\n  </tbody>\n</table>\n<p>857 rows × 2 columns</p>\n</div>"
     },
     "execution_count": 357,
     "metadata": {},
     "output_type": "execute_result"
    }
   ],
   "source": [
    "# detect the speakers with the most refuted claims\n",
    "refuted_by_speaker = refuted_df.groupby('speaker').size().reset_index(name='count')\n",
    "refuted_by_speaker"
   ],
   "metadata": {
    "collapsed": false,
    "ExecuteTime": {
     "end_time": "2024-04-24T10:58:28.194992Z",
     "start_time": "2024-04-24T10:58:28.189067Z"
    }
   },
   "id": "9d703948a1d56f39",
   "execution_count": 357
  },
  {
   "cell_type": "code",
   "outputs": [
    {
     "data": {
      "text/plain": "                                                speaker  count\n0                                                            1\n1                                             \"crystal,      1\n2                                        .ayodolaadigun      1\n3                                          .deborahbirx      1\n4     .isaibrahim-ministerofcommunicationsanddigital...      1\n...                                                 ...    ...\n1256                                प्रशान्तिन्यूज़पेपर      1\n1257                                           අපිහෙළයෝ      1\n1258                              රොබින්හුඩ්-robinhood      1\n1259                      හොරොව්පතානපාරම්පරිකහෙළවෙදගෙදර      1\n1260                                             ‎emmy‎      1\n\n[1261 rows x 2 columns]",
      "text/html": "<div>\n<style scoped>\n    .dataframe tbody tr th:only-of-type {\n        vertical-align: middle;\n    }\n\n    .dataframe tbody tr th {\n        vertical-align: top;\n    }\n\n    .dataframe thead th {\n        text-align: right;\n    }\n</style>\n<table border=\"1\" class=\"dataframe\">\n  <thead>\n    <tr style=\"text-align: right;\">\n      <th></th>\n      <th>speaker</th>\n      <th>count</th>\n    </tr>\n  </thead>\n  <tbody>\n    <tr>\n      <th>0</th>\n      <td></td>\n      <td>1</td>\n    </tr>\n    <tr>\n      <th>1</th>\n      <td>\"crystal,</td>\n      <td>1</td>\n    </tr>\n    <tr>\n      <th>2</th>\n      <td>.ayodolaadigun</td>\n      <td>1</td>\n    </tr>\n    <tr>\n      <th>3</th>\n      <td>.deborahbirx</td>\n      <td>1</td>\n    </tr>\n    <tr>\n      <th>4</th>\n      <td>.isaibrahim-ministerofcommunicationsanddigital...</td>\n      <td>1</td>\n    </tr>\n    <tr>\n      <th>...</th>\n      <td>...</td>\n      <td>...</td>\n    </tr>\n    <tr>\n      <th>1256</th>\n      <td>प्रशान्तिन्यूज़पेपर</td>\n      <td>1</td>\n    </tr>\n    <tr>\n      <th>1257</th>\n      <td>අපිහෙළයෝ</td>\n      <td>1</td>\n    </tr>\n    <tr>\n      <th>1258</th>\n      <td>රොබින්හුඩ්-robinhood</td>\n      <td>1</td>\n    </tr>\n    <tr>\n      <th>1259</th>\n      <td>හොරොව්පතානපාරම්පරිකහෙළවෙදගෙදර</td>\n      <td>1</td>\n    </tr>\n    <tr>\n      <th>1260</th>\n      <td>‎emmy‎</td>\n      <td>1</td>\n    </tr>\n  </tbody>\n</table>\n<p>1261 rows × 2 columns</p>\n</div>"
     },
     "execution_count": 358,
     "metadata": {},
     "output_type": "execute_result"
    }
   ],
   "source": [
    "# get the overall claims by speaker\n",
    "claims_by_speaker =  claims_df.groupby('speaker').size().reset_index(name='count')\n",
    "claims_by_speaker"
   ],
   "metadata": {
    "collapsed": false,
    "ExecuteTime": {
     "end_time": "2024-04-24T10:58:33.631496Z",
     "start_time": "2024-04-24T10:58:33.624484Z"
    }
   },
   "id": "4d2be042ed2cd59",
   "execution_count": 358
  },
  {
   "cell_type": "code",
   "outputs": [
    {
     "data": {
      "text/plain": "                           speaker  count_x  count_y  percentage\n0                        \"crystal,        1        1         1.0\n1                     .deborahbirx        1        1         1.0\n2                   .jeonkwang-hun        1        1         1.0\n3                    .juliusokojie        1        2         0.5\n4                    .mattmccarthy        1        1         1.0\n..                             ...      ...      ...         ...\n852            प्रशान्तिन्यूज़पेपर        1        1         1.0\n853                       අපිහෙළයෝ        1        1         1.0\n854          රොබින්හුඩ්-robinhood        1        1         1.0\n855  හොරොව්පතානපාරම්පරිකහෙළවෙදගෙදර        1        1         1.0\n856                         ‎emmy‎        1        1         1.0\n\n[857 rows x 4 columns]",
      "text/html": "<div>\n<style scoped>\n    .dataframe tbody tr th:only-of-type {\n        vertical-align: middle;\n    }\n\n    .dataframe tbody tr th {\n        vertical-align: top;\n    }\n\n    .dataframe thead th {\n        text-align: right;\n    }\n</style>\n<table border=\"1\" class=\"dataframe\">\n  <thead>\n    <tr style=\"text-align: right;\">\n      <th></th>\n      <th>speaker</th>\n      <th>count_x</th>\n      <th>count_y</th>\n      <th>percentage</th>\n    </tr>\n  </thead>\n  <tbody>\n    <tr>\n      <th>0</th>\n      <td>\"crystal,</td>\n      <td>1</td>\n      <td>1</td>\n      <td>1.0</td>\n    </tr>\n    <tr>\n      <th>1</th>\n      <td>.deborahbirx</td>\n      <td>1</td>\n      <td>1</td>\n      <td>1.0</td>\n    </tr>\n    <tr>\n      <th>2</th>\n      <td>.jeonkwang-hun</td>\n      <td>1</td>\n      <td>1</td>\n      <td>1.0</td>\n    </tr>\n    <tr>\n      <th>3</th>\n      <td>.juliusokojie</td>\n      <td>1</td>\n      <td>2</td>\n      <td>0.5</td>\n    </tr>\n    <tr>\n      <th>4</th>\n      <td>.mattmccarthy</td>\n      <td>1</td>\n      <td>1</td>\n      <td>1.0</td>\n    </tr>\n    <tr>\n      <th>...</th>\n      <td>...</td>\n      <td>...</td>\n      <td>...</td>\n      <td>...</td>\n    </tr>\n    <tr>\n      <th>852</th>\n      <td>प्रशान्तिन्यूज़पेपर</td>\n      <td>1</td>\n      <td>1</td>\n      <td>1.0</td>\n    </tr>\n    <tr>\n      <th>853</th>\n      <td>අපිහෙළයෝ</td>\n      <td>1</td>\n      <td>1</td>\n      <td>1.0</td>\n    </tr>\n    <tr>\n      <th>854</th>\n      <td>රොබින්හුඩ්-robinhood</td>\n      <td>1</td>\n      <td>1</td>\n      <td>1.0</td>\n    </tr>\n    <tr>\n      <th>855</th>\n      <td>හොරොව්පතානපාරම්පරිකහෙළවෙදගෙදර</td>\n      <td>1</td>\n      <td>1</td>\n      <td>1.0</td>\n    </tr>\n    <tr>\n      <th>856</th>\n      <td>‎emmy‎</td>\n      <td>1</td>\n      <td>1</td>\n      <td>1.0</td>\n    </tr>\n  </tbody>\n</table>\n<p>857 rows × 4 columns</p>\n</div>"
     },
     "execution_count": 359,
     "metadata": {},
     "output_type": "execute_result"
    }
   ],
   "source": [
    "# get the percentage of refuted claims by speaker matching by speaker\n",
    "refuted_by_speaker = refuted_by_speaker.merge(claims_by_speaker, on='speaker')\n",
    "refuted_by_speaker['percentage'] = refuted_by_speaker['count_x'] / refuted_by_speaker['count_y']\n",
    "refuted_by_speaker"
   ],
   "metadata": {
    "collapsed": false,
    "ExecuteTime": {
     "end_time": "2024-04-24T10:58:35.742065Z",
     "start_time": "2024-04-24T10:58:35.732274Z"
    }
   },
   "id": "e5307593ee14df70",
   "execution_count": 359
  },
  {
   "cell_type": "code",
   "outputs": [],
   "source": [
    "# rename the columns\n",
    "refuted_by_speaker = refuted_by_speaker.rename(columns={'count_x': 'refuted', 'count_y': 'total'})"
   ],
   "metadata": {
    "collapsed": false,
    "ExecuteTime": {
     "end_time": "2024-04-24T10:58:36.500495Z",
     "start_time": "2024-04-24T10:58:36.497850Z"
    }
   },
   "id": "d178aac30207f0a8",
   "execution_count": 360
  },
  {
   "cell_type": "code",
   "outputs": [
    {
     "data": {
      "text/plain": "                                               speaker  refuted  total  \\\n0                                            \"crystal,        1      1   \n542                                         munnasingh        1      1   \n545                                    myanmarcelestar        1      1   \n546  najibbalala.kenya'scabinetsecretaryfortourisma...        1      1   \n547                                          namoindia        1      1   \n..                                                 ...      ...    ...   \n210                                     cyrilramaphosa       10     74   \n337                                        henryrotich        2     15   \n204                                         corybooker        1     10   \n538                                    muhammadubuhari        1     12   \n222                                        davidmaraga        2     25   \n\n     percentage  \n0      1.000000  \n542    1.000000  \n545    1.000000  \n546    1.000000  \n547    1.000000  \n..          ...  \n210    0.135135  \n337    0.133333  \n204    0.100000  \n538    0.083333  \n222    0.080000  \n\n[857 rows x 4 columns]",
      "text/html": "<div>\n<style scoped>\n    .dataframe tbody tr th:only-of-type {\n        vertical-align: middle;\n    }\n\n    .dataframe tbody tr th {\n        vertical-align: top;\n    }\n\n    .dataframe thead th {\n        text-align: right;\n    }\n</style>\n<table border=\"1\" class=\"dataframe\">\n  <thead>\n    <tr style=\"text-align: right;\">\n      <th></th>\n      <th>speaker</th>\n      <th>refuted</th>\n      <th>total</th>\n      <th>percentage</th>\n    </tr>\n  </thead>\n  <tbody>\n    <tr>\n      <th>0</th>\n      <td>\"crystal,</td>\n      <td>1</td>\n      <td>1</td>\n      <td>1.000000</td>\n    </tr>\n    <tr>\n      <th>542</th>\n      <td>munnasingh</td>\n      <td>1</td>\n      <td>1</td>\n      <td>1.000000</td>\n    </tr>\n    <tr>\n      <th>545</th>\n      <td>myanmarcelestar</td>\n      <td>1</td>\n      <td>1</td>\n      <td>1.000000</td>\n    </tr>\n    <tr>\n      <th>546</th>\n      <td>najibbalala.kenya'scabinetsecretaryfortourisma...</td>\n      <td>1</td>\n      <td>1</td>\n      <td>1.000000</td>\n    </tr>\n    <tr>\n      <th>547</th>\n      <td>namoindia</td>\n      <td>1</td>\n      <td>1</td>\n      <td>1.000000</td>\n    </tr>\n    <tr>\n      <th>...</th>\n      <td>...</td>\n      <td>...</td>\n      <td>...</td>\n      <td>...</td>\n    </tr>\n    <tr>\n      <th>210</th>\n      <td>cyrilramaphosa</td>\n      <td>10</td>\n      <td>74</td>\n      <td>0.135135</td>\n    </tr>\n    <tr>\n      <th>337</th>\n      <td>henryrotich</td>\n      <td>2</td>\n      <td>15</td>\n      <td>0.133333</td>\n    </tr>\n    <tr>\n      <th>204</th>\n      <td>corybooker</td>\n      <td>1</td>\n      <td>10</td>\n      <td>0.100000</td>\n    </tr>\n    <tr>\n      <th>538</th>\n      <td>muhammadubuhari</td>\n      <td>1</td>\n      <td>12</td>\n      <td>0.083333</td>\n    </tr>\n    <tr>\n      <th>222</th>\n      <td>davidmaraga</td>\n      <td>2</td>\n      <td>25</td>\n      <td>0.080000</td>\n    </tr>\n  </tbody>\n</table>\n<p>857 rows × 4 columns</p>\n</div>"
     },
     "execution_count": 361,
     "metadata": {},
     "output_type": "execute_result"
    }
   ],
   "source": [
    "# sort the speakers by percentage of refuted claims\n",
    "refuted_by_speaker = refuted_by_speaker.sort_values(by='percentage', ascending=False)\n",
    "refuted_by_speaker"
   ],
   "metadata": {
    "collapsed": false,
    "ExecuteTime": {
     "end_time": "2024-04-24T10:58:37.192125Z",
     "start_time": "2024-04-24T10:58:37.185014Z"
    }
   },
   "id": "9af8203e7d0f1cf7",
   "execution_count": 361
  },
  {
   "cell_type": "code",
   "outputs": [
    {
     "data": {
      "text/plain": "              speaker  refuted  total  percentage\n250       donaldtrump      163    250    0.652000\n702  socialmediausers        8     14    0.571429\n441    kyledarbyshire        8     16    0.500000\n833       williamruto       13     28    0.464286\n86          aljazeera        5     11    0.454545\n703   socratesmbamalu       12     28    0.428571\n841  wycliffeoparanya       16     46    0.347826\n127     atikuabubakar        4     13    0.307692\n141     berniesanders        8     33    0.242424\n795     uhurukenyatta       13     55    0.236364\n268   elizabethwarren        3     13    0.230769\n389          joebiden        9     41    0.219512\n210    cyrilramaphosa       10     74    0.135135\n337       henryrotich        2     15    0.133333\n538   muhammadubuhari        1     12    0.083333\n222       davidmaraga        2     25    0.080000",
      "text/html": "<div>\n<style scoped>\n    .dataframe tbody tr th:only-of-type {\n        vertical-align: middle;\n    }\n\n    .dataframe tbody tr th {\n        vertical-align: top;\n    }\n\n    .dataframe thead th {\n        text-align: right;\n    }\n</style>\n<table border=\"1\" class=\"dataframe\">\n  <thead>\n    <tr style=\"text-align: right;\">\n      <th></th>\n      <th>speaker</th>\n      <th>refuted</th>\n      <th>total</th>\n      <th>percentage</th>\n    </tr>\n  </thead>\n  <tbody>\n    <tr>\n      <th>250</th>\n      <td>donaldtrump</td>\n      <td>163</td>\n      <td>250</td>\n      <td>0.652000</td>\n    </tr>\n    <tr>\n      <th>702</th>\n      <td>socialmediausers</td>\n      <td>8</td>\n      <td>14</td>\n      <td>0.571429</td>\n    </tr>\n    <tr>\n      <th>441</th>\n      <td>kyledarbyshire</td>\n      <td>8</td>\n      <td>16</td>\n      <td>0.500000</td>\n    </tr>\n    <tr>\n      <th>833</th>\n      <td>williamruto</td>\n      <td>13</td>\n      <td>28</td>\n      <td>0.464286</td>\n    </tr>\n    <tr>\n      <th>86</th>\n      <td>aljazeera</td>\n      <td>5</td>\n      <td>11</td>\n      <td>0.454545</td>\n    </tr>\n    <tr>\n      <th>703</th>\n      <td>socratesmbamalu</td>\n      <td>12</td>\n      <td>28</td>\n      <td>0.428571</td>\n    </tr>\n    <tr>\n      <th>841</th>\n      <td>wycliffeoparanya</td>\n      <td>16</td>\n      <td>46</td>\n      <td>0.347826</td>\n    </tr>\n    <tr>\n      <th>127</th>\n      <td>atikuabubakar</td>\n      <td>4</td>\n      <td>13</td>\n      <td>0.307692</td>\n    </tr>\n    <tr>\n      <th>141</th>\n      <td>berniesanders</td>\n      <td>8</td>\n      <td>33</td>\n      <td>0.242424</td>\n    </tr>\n    <tr>\n      <th>795</th>\n      <td>uhurukenyatta</td>\n      <td>13</td>\n      <td>55</td>\n      <td>0.236364</td>\n    </tr>\n    <tr>\n      <th>268</th>\n      <td>elizabethwarren</td>\n      <td>3</td>\n      <td>13</td>\n      <td>0.230769</td>\n    </tr>\n    <tr>\n      <th>389</th>\n      <td>joebiden</td>\n      <td>9</td>\n      <td>41</td>\n      <td>0.219512</td>\n    </tr>\n    <tr>\n      <th>210</th>\n      <td>cyrilramaphosa</td>\n      <td>10</td>\n      <td>74</td>\n      <td>0.135135</td>\n    </tr>\n    <tr>\n      <th>337</th>\n      <td>henryrotich</td>\n      <td>2</td>\n      <td>15</td>\n      <td>0.133333</td>\n    </tr>\n    <tr>\n      <th>538</th>\n      <td>muhammadubuhari</td>\n      <td>1</td>\n      <td>12</td>\n      <td>0.083333</td>\n    </tr>\n    <tr>\n      <th>222</th>\n      <td>davidmaraga</td>\n      <td>2</td>\n      <td>25</td>\n      <td>0.080000</td>\n    </tr>\n  </tbody>\n</table>\n</div>"
     },
     "execution_count": 362,
     "metadata": {},
     "output_type": "execute_result"
    }
   ],
   "source": [
    "# filter the speakers with more than 5 claims\n",
    "refuted_by_speaker = refuted_by_speaker[refuted_by_speaker['total'] > 10]\n",
    "refuted_by_speaker"
   ],
   "metadata": {
    "collapsed": false,
    "ExecuteTime": {
     "end_time": "2024-04-24T10:58:38.543403Z",
     "start_time": "2024-04-24T10:58:38.537077Z"
    }
   },
   "id": "2f2b5d7870f1bf29",
   "execution_count": 362
  },
  {
   "cell_type": "code",
   "outputs": [
    {
     "data": {
      "application/vnd.plotly.v1+json": {
       "data": [
        {
         "alignmentgroup": "True",
         "hovertemplate": "Speaker=%{x}<br>Percentage of refuted claims=%{y}<extra></extra>",
         "legendgroup": "",
         "marker": {
          "color": "#636efa",
          "pattern": {
           "shape": ""
          }
         },
         "name": "",
         "offsetgroup": "",
         "orientation": "v",
         "showlegend": false,
         "textposition": "auto",
         "x": [
          "donaldtrump",
          "socialmediausers",
          "kyledarbyshire",
          "williamruto",
          "aljazeera",
          "socratesmbamalu",
          "wycliffeoparanya",
          "atikuabubakar",
          "berniesanders",
          "uhurukenyatta",
          "elizabethwarren",
          "joebiden",
          "cyrilramaphosa",
          "henryrotich",
          "muhammadubuhari",
          "davidmaraga"
         ],
         "xaxis": "x",
         "y": [
          0.652,
          0.5714285714285714,
          0.5,
          0.4642857142857143,
          0.45454545454545453,
          0.42857142857142855,
          0.34782608695652173,
          0.3076923076923077,
          0.24242424242424243,
          0.23636363636363636,
          0.23076923076923078,
          0.21951219512195122,
          0.13513513513513514,
          0.13333333333333333,
          0.08333333333333333,
          0.08
         ],
         "yaxis": "y",
         "type": "bar"
        }
       ],
       "layout": {
        "template": {
         "data": {
          "histogram2dcontour": [
           {
            "type": "histogram2dcontour",
            "colorbar": {
             "outlinewidth": 0,
             "ticks": ""
            },
            "colorscale": [
             [
              0.0,
              "#0d0887"
             ],
             [
              0.1111111111111111,
              "#46039f"
             ],
             [
              0.2222222222222222,
              "#7201a8"
             ],
             [
              0.3333333333333333,
              "#9c179e"
             ],
             [
              0.4444444444444444,
              "#bd3786"
             ],
             [
              0.5555555555555556,
              "#d8576b"
             ],
             [
              0.6666666666666666,
              "#ed7953"
             ],
             [
              0.7777777777777778,
              "#fb9f3a"
             ],
             [
              0.8888888888888888,
              "#fdca26"
             ],
             [
              1.0,
              "#f0f921"
             ]
            ]
           }
          ],
          "choropleth": [
           {
            "type": "choropleth",
            "colorbar": {
             "outlinewidth": 0,
             "ticks": ""
            }
           }
          ],
          "histogram2d": [
           {
            "type": "histogram2d",
            "colorbar": {
             "outlinewidth": 0,
             "ticks": ""
            },
            "colorscale": [
             [
              0.0,
              "#0d0887"
             ],
             [
              0.1111111111111111,
              "#46039f"
             ],
             [
              0.2222222222222222,
              "#7201a8"
             ],
             [
              0.3333333333333333,
              "#9c179e"
             ],
             [
              0.4444444444444444,
              "#bd3786"
             ],
             [
              0.5555555555555556,
              "#d8576b"
             ],
             [
              0.6666666666666666,
              "#ed7953"
             ],
             [
              0.7777777777777778,
              "#fb9f3a"
             ],
             [
              0.8888888888888888,
              "#fdca26"
             ],
             [
              1.0,
              "#f0f921"
             ]
            ]
           }
          ],
          "heatmap": [
           {
            "type": "heatmap",
            "colorbar": {
             "outlinewidth": 0,
             "ticks": ""
            },
            "colorscale": [
             [
              0.0,
              "#0d0887"
             ],
             [
              0.1111111111111111,
              "#46039f"
             ],
             [
              0.2222222222222222,
              "#7201a8"
             ],
             [
              0.3333333333333333,
              "#9c179e"
             ],
             [
              0.4444444444444444,
              "#bd3786"
             ],
             [
              0.5555555555555556,
              "#d8576b"
             ],
             [
              0.6666666666666666,
              "#ed7953"
             ],
             [
              0.7777777777777778,
              "#fb9f3a"
             ],
             [
              0.8888888888888888,
              "#fdca26"
             ],
             [
              1.0,
              "#f0f921"
             ]
            ]
           }
          ],
          "heatmapgl": [
           {
            "type": "heatmapgl",
            "colorbar": {
             "outlinewidth": 0,
             "ticks": ""
            },
            "colorscale": [
             [
              0.0,
              "#0d0887"
             ],
             [
              0.1111111111111111,
              "#46039f"
             ],
             [
              0.2222222222222222,
              "#7201a8"
             ],
             [
              0.3333333333333333,
              "#9c179e"
             ],
             [
              0.4444444444444444,
              "#bd3786"
             ],
             [
              0.5555555555555556,
              "#d8576b"
             ],
             [
              0.6666666666666666,
              "#ed7953"
             ],
             [
              0.7777777777777778,
              "#fb9f3a"
             ],
             [
              0.8888888888888888,
              "#fdca26"
             ],
             [
              1.0,
              "#f0f921"
             ]
            ]
           }
          ],
          "contourcarpet": [
           {
            "type": "contourcarpet",
            "colorbar": {
             "outlinewidth": 0,
             "ticks": ""
            }
           }
          ],
          "contour": [
           {
            "type": "contour",
            "colorbar": {
             "outlinewidth": 0,
             "ticks": ""
            },
            "colorscale": [
             [
              0.0,
              "#0d0887"
             ],
             [
              0.1111111111111111,
              "#46039f"
             ],
             [
              0.2222222222222222,
              "#7201a8"
             ],
             [
              0.3333333333333333,
              "#9c179e"
             ],
             [
              0.4444444444444444,
              "#bd3786"
             ],
             [
              0.5555555555555556,
              "#d8576b"
             ],
             [
              0.6666666666666666,
              "#ed7953"
             ],
             [
              0.7777777777777778,
              "#fb9f3a"
             ],
             [
              0.8888888888888888,
              "#fdca26"
             ],
             [
              1.0,
              "#f0f921"
             ]
            ]
           }
          ],
          "surface": [
           {
            "type": "surface",
            "colorbar": {
             "outlinewidth": 0,
             "ticks": ""
            },
            "colorscale": [
             [
              0.0,
              "#0d0887"
             ],
             [
              0.1111111111111111,
              "#46039f"
             ],
             [
              0.2222222222222222,
              "#7201a8"
             ],
             [
              0.3333333333333333,
              "#9c179e"
             ],
             [
              0.4444444444444444,
              "#bd3786"
             ],
             [
              0.5555555555555556,
              "#d8576b"
             ],
             [
              0.6666666666666666,
              "#ed7953"
             ],
             [
              0.7777777777777778,
              "#fb9f3a"
             ],
             [
              0.8888888888888888,
              "#fdca26"
             ],
             [
              1.0,
              "#f0f921"
             ]
            ]
           }
          ],
          "mesh3d": [
           {
            "type": "mesh3d",
            "colorbar": {
             "outlinewidth": 0,
             "ticks": ""
            }
           }
          ],
          "scatter": [
           {
            "marker": {
             "line": {
              "color": "#283442"
             }
            },
            "type": "scatter"
           }
          ],
          "parcoords": [
           {
            "type": "parcoords",
            "line": {
             "colorbar": {
              "outlinewidth": 0,
              "ticks": ""
             }
            }
           }
          ],
          "scatterpolargl": [
           {
            "type": "scatterpolargl",
            "marker": {
             "colorbar": {
              "outlinewidth": 0,
              "ticks": ""
             }
            }
           }
          ],
          "bar": [
           {
            "error_x": {
             "color": "#f2f5fa"
            },
            "error_y": {
             "color": "#f2f5fa"
            },
            "marker": {
             "line": {
              "color": "rgb(17,17,17)",
              "width": 0.5
             },
             "pattern": {
              "fillmode": "overlay",
              "size": 10,
              "solidity": 0.2
             }
            },
            "type": "bar"
           }
          ],
          "scattergeo": [
           {
            "type": "scattergeo",
            "marker": {
             "colorbar": {
              "outlinewidth": 0,
              "ticks": ""
             }
            }
           }
          ],
          "scatterpolar": [
           {
            "type": "scatterpolar",
            "marker": {
             "colorbar": {
              "outlinewidth": 0,
              "ticks": ""
             }
            }
           }
          ],
          "histogram": [
           {
            "marker": {
             "pattern": {
              "fillmode": "overlay",
              "size": 10,
              "solidity": 0.2
             }
            },
            "type": "histogram"
           }
          ],
          "scattergl": [
           {
            "marker": {
             "line": {
              "color": "#283442"
             }
            },
            "type": "scattergl"
           }
          ],
          "scatter3d": [
           {
            "type": "scatter3d",
            "line": {
             "colorbar": {
              "outlinewidth": 0,
              "ticks": ""
             }
            },
            "marker": {
             "colorbar": {
              "outlinewidth": 0,
              "ticks": ""
             }
            }
           }
          ],
          "scattermapbox": [
           {
            "type": "scattermapbox",
            "marker": {
             "colorbar": {
              "outlinewidth": 0,
              "ticks": ""
             }
            }
           }
          ],
          "scatterternary": [
           {
            "type": "scatterternary",
            "marker": {
             "colorbar": {
              "outlinewidth": 0,
              "ticks": ""
             }
            }
           }
          ],
          "scattercarpet": [
           {
            "type": "scattercarpet",
            "marker": {
             "colorbar": {
              "outlinewidth": 0,
              "ticks": ""
             }
            }
           }
          ],
          "carpet": [
           {
            "aaxis": {
             "endlinecolor": "#A2B1C6",
             "gridcolor": "#506784",
             "linecolor": "#506784",
             "minorgridcolor": "#506784",
             "startlinecolor": "#A2B1C6"
            },
            "baxis": {
             "endlinecolor": "#A2B1C6",
             "gridcolor": "#506784",
             "linecolor": "#506784",
             "minorgridcolor": "#506784",
             "startlinecolor": "#A2B1C6"
            },
            "type": "carpet"
           }
          ],
          "table": [
           {
            "cells": {
             "fill": {
              "color": "#506784"
             },
             "line": {
              "color": "rgb(17,17,17)"
             }
            },
            "header": {
             "fill": {
              "color": "#2a3f5f"
             },
             "line": {
              "color": "rgb(17,17,17)"
             }
            },
            "type": "table"
           }
          ],
          "barpolar": [
           {
            "marker": {
             "line": {
              "color": "rgb(17,17,17)",
              "width": 0.5
             },
             "pattern": {
              "fillmode": "overlay",
              "size": 10,
              "solidity": 0.2
             }
            },
            "type": "barpolar"
           }
          ],
          "pie": [
           {
            "automargin": true,
            "type": "pie"
           }
          ]
         },
         "layout": {
          "autotypenumbers": "strict",
          "colorway": [
           "#636efa",
           "#EF553B",
           "#00cc96",
           "#ab63fa",
           "#FFA15A",
           "#19d3f3",
           "#FF6692",
           "#B6E880",
           "#FF97FF",
           "#FECB52"
          ],
          "font": {
           "color": "#f2f5fa"
          },
          "hovermode": "closest",
          "hoverlabel": {
           "align": "left"
          },
          "paper_bgcolor": "rgb(17,17,17)",
          "plot_bgcolor": "rgb(17,17,17)",
          "polar": {
           "bgcolor": "rgb(17,17,17)",
           "angularaxis": {
            "gridcolor": "#506784",
            "linecolor": "#506784",
            "ticks": ""
           },
           "radialaxis": {
            "gridcolor": "#506784",
            "linecolor": "#506784",
            "ticks": ""
           }
          },
          "ternary": {
           "bgcolor": "rgb(17,17,17)",
           "aaxis": {
            "gridcolor": "#506784",
            "linecolor": "#506784",
            "ticks": ""
           },
           "baxis": {
            "gridcolor": "#506784",
            "linecolor": "#506784",
            "ticks": ""
           },
           "caxis": {
            "gridcolor": "#506784",
            "linecolor": "#506784",
            "ticks": ""
           }
          },
          "coloraxis": {
           "colorbar": {
            "outlinewidth": 0,
            "ticks": ""
           }
          },
          "colorscale": {
           "sequential": [
            [
             0.0,
             "#0d0887"
            ],
            [
             0.1111111111111111,
             "#46039f"
            ],
            [
             0.2222222222222222,
             "#7201a8"
            ],
            [
             0.3333333333333333,
             "#9c179e"
            ],
            [
             0.4444444444444444,
             "#bd3786"
            ],
            [
             0.5555555555555556,
             "#d8576b"
            ],
            [
             0.6666666666666666,
             "#ed7953"
            ],
            [
             0.7777777777777778,
             "#fb9f3a"
            ],
            [
             0.8888888888888888,
             "#fdca26"
            ],
            [
             1.0,
             "#f0f921"
            ]
           ],
           "sequentialminus": [
            [
             0.0,
             "#0d0887"
            ],
            [
             0.1111111111111111,
             "#46039f"
            ],
            [
             0.2222222222222222,
             "#7201a8"
            ],
            [
             0.3333333333333333,
             "#9c179e"
            ],
            [
             0.4444444444444444,
             "#bd3786"
            ],
            [
             0.5555555555555556,
             "#d8576b"
            ],
            [
             0.6666666666666666,
             "#ed7953"
            ],
            [
             0.7777777777777778,
             "#fb9f3a"
            ],
            [
             0.8888888888888888,
             "#fdca26"
            ],
            [
             1.0,
             "#f0f921"
            ]
           ],
           "diverging": [
            [
             0,
             "#8e0152"
            ],
            [
             0.1,
             "#c51b7d"
            ],
            [
             0.2,
             "#de77ae"
            ],
            [
             0.3,
             "#f1b6da"
            ],
            [
             0.4,
             "#fde0ef"
            ],
            [
             0.5,
             "#f7f7f7"
            ],
            [
             0.6,
             "#e6f5d0"
            ],
            [
             0.7,
             "#b8e186"
            ],
            [
             0.8,
             "#7fbc41"
            ],
            [
             0.9,
             "#4d9221"
            ],
            [
             1,
             "#276419"
            ]
           ]
          },
          "xaxis": {
           "gridcolor": "#283442",
           "linecolor": "#506784",
           "ticks": "",
           "title": {
            "standoff": 15
           },
           "zerolinecolor": "#283442",
           "automargin": true,
           "zerolinewidth": 2
          },
          "yaxis": {
           "gridcolor": "#283442",
           "linecolor": "#506784",
           "ticks": "",
           "title": {
            "standoff": 15
           },
           "zerolinecolor": "#283442",
           "automargin": true,
           "zerolinewidth": 2
          },
          "scene": {
           "xaxis": {
            "backgroundcolor": "rgb(17,17,17)",
            "gridcolor": "#506784",
            "linecolor": "#506784",
            "showbackground": true,
            "ticks": "",
            "zerolinecolor": "#C8D4E3",
            "gridwidth": 2
           },
           "yaxis": {
            "backgroundcolor": "rgb(17,17,17)",
            "gridcolor": "#506784",
            "linecolor": "#506784",
            "showbackground": true,
            "ticks": "",
            "zerolinecolor": "#C8D4E3",
            "gridwidth": 2
           },
           "zaxis": {
            "backgroundcolor": "rgb(17,17,17)",
            "gridcolor": "#506784",
            "linecolor": "#506784",
            "showbackground": true,
            "ticks": "",
            "zerolinecolor": "#C8D4E3",
            "gridwidth": 2
           }
          },
          "shapedefaults": {
           "line": {
            "color": "#f2f5fa"
           }
          },
          "annotationdefaults": {
           "arrowcolor": "#f2f5fa",
           "arrowhead": 0,
           "arrowwidth": 1
          },
          "geo": {
           "bgcolor": "rgb(17,17,17)",
           "landcolor": "rgb(17,17,17)",
           "subunitcolor": "#506784",
           "showland": true,
           "showlakes": true,
           "lakecolor": "rgb(17,17,17)"
          },
          "title": {
           "x": 0.05
          },
          "updatemenudefaults": {
           "bgcolor": "#506784",
           "borderwidth": 0
          },
          "sliderdefaults": {
           "bgcolor": "#C8D4E3",
           "borderwidth": 1,
           "bordercolor": "rgb(17,17,17)",
           "tickwidth": 0
          },
          "mapbox": {
           "style": "dark"
          }
         }
        },
        "xaxis": {
         "anchor": "y",
         "domain": [
          0.0,
          1.0
         ],
         "title": {
          "text": "Speaker"
         }
        },
        "yaxis": {
         "anchor": "x",
         "domain": [
          0.0,
          1.0
         ],
         "title": {
          "text": "Percentage of refuted claims"
         }
        },
        "legend": {
         "tracegroupgap": 0
        },
        "title": {
         "text": "Percentage of refuted claims by speaker"
        },
        "barmode": "relative"
       },
       "config": {
        "plotlyServerURL": "https://plot.ly"
       }
      },
      "text/html": "<div>                            <div id=\"cb9fafff-1ffb-49da-863b-b746d93bdc44\" class=\"plotly-graph-div\" style=\"height:525px; width:100%;\"></div>            <script type=\"text/javascript\">                require([\"plotly\"], function(Plotly) {                    window.PLOTLYENV=window.PLOTLYENV || {};                                    if (document.getElementById(\"cb9fafff-1ffb-49da-863b-b746d93bdc44\")) {                    Plotly.newPlot(                        \"cb9fafff-1ffb-49da-863b-b746d93bdc44\",                        [{\"alignmentgroup\":\"True\",\"hovertemplate\":\"Speaker=%{x}\\u003cbr\\u003ePercentage of refuted claims=%{y}\\u003cextra\\u003e\\u003c\\u002fextra\\u003e\",\"legendgroup\":\"\",\"marker\":{\"color\":\"#636efa\",\"pattern\":{\"shape\":\"\"}},\"name\":\"\",\"offsetgroup\":\"\",\"orientation\":\"v\",\"showlegend\":false,\"textposition\":\"auto\",\"x\":[\"donaldtrump\",\"socialmediausers\",\"kyledarbyshire\",\"williamruto\",\"aljazeera\",\"socratesmbamalu\",\"wycliffeoparanya\",\"atikuabubakar\",\"berniesanders\",\"uhurukenyatta\",\"elizabethwarren\",\"joebiden\",\"cyrilramaphosa\",\"henryrotich\",\"muhammadubuhari\",\"davidmaraga\"],\"xaxis\":\"x\",\"y\":[0.652,0.5714285714285714,0.5,0.4642857142857143,0.45454545454545453,0.42857142857142855,0.34782608695652173,0.3076923076923077,0.24242424242424243,0.23636363636363636,0.23076923076923078,0.21951219512195122,0.13513513513513514,0.13333333333333333,0.08333333333333333,0.08],\"yaxis\":\"y\",\"type\":\"bar\"}],                        {\"template\":{\"data\":{\"histogram2dcontour\":[{\"type\":\"histogram2dcontour\",\"colorbar\":{\"outlinewidth\":0,\"ticks\":\"\"},\"colorscale\":[[0.0,\"#0d0887\"],[0.1111111111111111,\"#46039f\"],[0.2222222222222222,\"#7201a8\"],[0.3333333333333333,\"#9c179e\"],[0.4444444444444444,\"#bd3786\"],[0.5555555555555556,\"#d8576b\"],[0.6666666666666666,\"#ed7953\"],[0.7777777777777778,\"#fb9f3a\"],[0.8888888888888888,\"#fdca26\"],[1.0,\"#f0f921\"]]}],\"choropleth\":[{\"type\":\"choropleth\",\"colorbar\":{\"outlinewidth\":0,\"ticks\":\"\"}}],\"histogram2d\":[{\"type\":\"histogram2d\",\"colorbar\":{\"outlinewidth\":0,\"ticks\":\"\"},\"colorscale\":[[0.0,\"#0d0887\"],[0.1111111111111111,\"#46039f\"],[0.2222222222222222,\"#7201a8\"],[0.3333333333333333,\"#9c179e\"],[0.4444444444444444,\"#bd3786\"],[0.5555555555555556,\"#d8576b\"],[0.6666666666666666,\"#ed7953\"],[0.7777777777777778,\"#fb9f3a\"],[0.8888888888888888,\"#fdca26\"],[1.0,\"#f0f921\"]]}],\"heatmap\":[{\"type\":\"heatmap\",\"colorbar\":{\"outlinewidth\":0,\"ticks\":\"\"},\"colorscale\":[[0.0,\"#0d0887\"],[0.1111111111111111,\"#46039f\"],[0.2222222222222222,\"#7201a8\"],[0.3333333333333333,\"#9c179e\"],[0.4444444444444444,\"#bd3786\"],[0.5555555555555556,\"#d8576b\"],[0.6666666666666666,\"#ed7953\"],[0.7777777777777778,\"#fb9f3a\"],[0.8888888888888888,\"#fdca26\"],[1.0,\"#f0f921\"]]}],\"heatmapgl\":[{\"type\":\"heatmapgl\",\"colorbar\":{\"outlinewidth\":0,\"ticks\":\"\"},\"colorscale\":[[0.0,\"#0d0887\"],[0.1111111111111111,\"#46039f\"],[0.2222222222222222,\"#7201a8\"],[0.3333333333333333,\"#9c179e\"],[0.4444444444444444,\"#bd3786\"],[0.5555555555555556,\"#d8576b\"],[0.6666666666666666,\"#ed7953\"],[0.7777777777777778,\"#fb9f3a\"],[0.8888888888888888,\"#fdca26\"],[1.0,\"#f0f921\"]]}],\"contourcarpet\":[{\"type\":\"contourcarpet\",\"colorbar\":{\"outlinewidth\":0,\"ticks\":\"\"}}],\"contour\":[{\"type\":\"contour\",\"colorbar\":{\"outlinewidth\":0,\"ticks\":\"\"},\"colorscale\":[[0.0,\"#0d0887\"],[0.1111111111111111,\"#46039f\"],[0.2222222222222222,\"#7201a8\"],[0.3333333333333333,\"#9c179e\"],[0.4444444444444444,\"#bd3786\"],[0.5555555555555556,\"#d8576b\"],[0.6666666666666666,\"#ed7953\"],[0.7777777777777778,\"#fb9f3a\"],[0.8888888888888888,\"#fdca26\"],[1.0,\"#f0f921\"]]}],\"surface\":[{\"type\":\"surface\",\"colorbar\":{\"outlinewidth\":0,\"ticks\":\"\"},\"colorscale\":[[0.0,\"#0d0887\"],[0.1111111111111111,\"#46039f\"],[0.2222222222222222,\"#7201a8\"],[0.3333333333333333,\"#9c179e\"],[0.4444444444444444,\"#bd3786\"],[0.5555555555555556,\"#d8576b\"],[0.6666666666666666,\"#ed7953\"],[0.7777777777777778,\"#fb9f3a\"],[0.8888888888888888,\"#fdca26\"],[1.0,\"#f0f921\"]]}],\"mesh3d\":[{\"type\":\"mesh3d\",\"colorbar\":{\"outlinewidth\":0,\"ticks\":\"\"}}],\"scatter\":[{\"marker\":{\"line\":{\"color\":\"#283442\"}},\"type\":\"scatter\"}],\"parcoords\":[{\"type\":\"parcoords\",\"line\":{\"colorbar\":{\"outlinewidth\":0,\"ticks\":\"\"}}}],\"scatterpolargl\":[{\"type\":\"scatterpolargl\",\"marker\":{\"colorbar\":{\"outlinewidth\":0,\"ticks\":\"\"}}}],\"bar\":[{\"error_x\":{\"color\":\"#f2f5fa\"},\"error_y\":{\"color\":\"#f2f5fa\"},\"marker\":{\"line\":{\"color\":\"rgb(17,17,17)\",\"width\":0.5},\"pattern\":{\"fillmode\":\"overlay\",\"size\":10,\"solidity\":0.2}},\"type\":\"bar\"}],\"scattergeo\":[{\"type\":\"scattergeo\",\"marker\":{\"colorbar\":{\"outlinewidth\":0,\"ticks\":\"\"}}}],\"scatterpolar\":[{\"type\":\"scatterpolar\",\"marker\":{\"colorbar\":{\"outlinewidth\":0,\"ticks\":\"\"}}}],\"histogram\":[{\"marker\":{\"pattern\":{\"fillmode\":\"overlay\",\"size\":10,\"solidity\":0.2}},\"type\":\"histogram\"}],\"scattergl\":[{\"marker\":{\"line\":{\"color\":\"#283442\"}},\"type\":\"scattergl\"}],\"scatter3d\":[{\"type\":\"scatter3d\",\"line\":{\"colorbar\":{\"outlinewidth\":0,\"ticks\":\"\"}},\"marker\":{\"colorbar\":{\"outlinewidth\":0,\"ticks\":\"\"}}}],\"scattermapbox\":[{\"type\":\"scattermapbox\",\"marker\":{\"colorbar\":{\"outlinewidth\":0,\"ticks\":\"\"}}}],\"scatterternary\":[{\"type\":\"scatterternary\",\"marker\":{\"colorbar\":{\"outlinewidth\":0,\"ticks\":\"\"}}}],\"scattercarpet\":[{\"type\":\"scattercarpet\",\"marker\":{\"colorbar\":{\"outlinewidth\":0,\"ticks\":\"\"}}}],\"carpet\":[{\"aaxis\":{\"endlinecolor\":\"#A2B1C6\",\"gridcolor\":\"#506784\",\"linecolor\":\"#506784\",\"minorgridcolor\":\"#506784\",\"startlinecolor\":\"#A2B1C6\"},\"baxis\":{\"endlinecolor\":\"#A2B1C6\",\"gridcolor\":\"#506784\",\"linecolor\":\"#506784\",\"minorgridcolor\":\"#506784\",\"startlinecolor\":\"#A2B1C6\"},\"type\":\"carpet\"}],\"table\":[{\"cells\":{\"fill\":{\"color\":\"#506784\"},\"line\":{\"color\":\"rgb(17,17,17)\"}},\"header\":{\"fill\":{\"color\":\"#2a3f5f\"},\"line\":{\"color\":\"rgb(17,17,17)\"}},\"type\":\"table\"}],\"barpolar\":[{\"marker\":{\"line\":{\"color\":\"rgb(17,17,17)\",\"width\":0.5},\"pattern\":{\"fillmode\":\"overlay\",\"size\":10,\"solidity\":0.2}},\"type\":\"barpolar\"}],\"pie\":[{\"automargin\":true,\"type\":\"pie\"}]},\"layout\":{\"autotypenumbers\":\"strict\",\"colorway\":[\"#636efa\",\"#EF553B\",\"#00cc96\",\"#ab63fa\",\"#FFA15A\",\"#19d3f3\",\"#FF6692\",\"#B6E880\",\"#FF97FF\",\"#FECB52\"],\"font\":{\"color\":\"#f2f5fa\"},\"hovermode\":\"closest\",\"hoverlabel\":{\"align\":\"left\"},\"paper_bgcolor\":\"rgb(17,17,17)\",\"plot_bgcolor\":\"rgb(17,17,17)\",\"polar\":{\"bgcolor\":\"rgb(17,17,17)\",\"angularaxis\":{\"gridcolor\":\"#506784\",\"linecolor\":\"#506784\",\"ticks\":\"\"},\"radialaxis\":{\"gridcolor\":\"#506784\",\"linecolor\":\"#506784\",\"ticks\":\"\"}},\"ternary\":{\"bgcolor\":\"rgb(17,17,17)\",\"aaxis\":{\"gridcolor\":\"#506784\",\"linecolor\":\"#506784\",\"ticks\":\"\"},\"baxis\":{\"gridcolor\":\"#506784\",\"linecolor\":\"#506784\",\"ticks\":\"\"},\"caxis\":{\"gridcolor\":\"#506784\",\"linecolor\":\"#506784\",\"ticks\":\"\"}},\"coloraxis\":{\"colorbar\":{\"outlinewidth\":0,\"ticks\":\"\"}},\"colorscale\":{\"sequential\":[[0.0,\"#0d0887\"],[0.1111111111111111,\"#46039f\"],[0.2222222222222222,\"#7201a8\"],[0.3333333333333333,\"#9c179e\"],[0.4444444444444444,\"#bd3786\"],[0.5555555555555556,\"#d8576b\"],[0.6666666666666666,\"#ed7953\"],[0.7777777777777778,\"#fb9f3a\"],[0.8888888888888888,\"#fdca26\"],[1.0,\"#f0f921\"]],\"sequentialminus\":[[0.0,\"#0d0887\"],[0.1111111111111111,\"#46039f\"],[0.2222222222222222,\"#7201a8\"],[0.3333333333333333,\"#9c179e\"],[0.4444444444444444,\"#bd3786\"],[0.5555555555555556,\"#d8576b\"],[0.6666666666666666,\"#ed7953\"],[0.7777777777777778,\"#fb9f3a\"],[0.8888888888888888,\"#fdca26\"],[1.0,\"#f0f921\"]],\"diverging\":[[0,\"#8e0152\"],[0.1,\"#c51b7d\"],[0.2,\"#de77ae\"],[0.3,\"#f1b6da\"],[0.4,\"#fde0ef\"],[0.5,\"#f7f7f7\"],[0.6,\"#e6f5d0\"],[0.7,\"#b8e186\"],[0.8,\"#7fbc41\"],[0.9,\"#4d9221\"],[1,\"#276419\"]]},\"xaxis\":{\"gridcolor\":\"#283442\",\"linecolor\":\"#506784\",\"ticks\":\"\",\"title\":{\"standoff\":15},\"zerolinecolor\":\"#283442\",\"automargin\":true,\"zerolinewidth\":2},\"yaxis\":{\"gridcolor\":\"#283442\",\"linecolor\":\"#506784\",\"ticks\":\"\",\"title\":{\"standoff\":15},\"zerolinecolor\":\"#283442\",\"automargin\":true,\"zerolinewidth\":2},\"scene\":{\"xaxis\":{\"backgroundcolor\":\"rgb(17,17,17)\",\"gridcolor\":\"#506784\",\"linecolor\":\"#506784\",\"showbackground\":true,\"ticks\":\"\",\"zerolinecolor\":\"#C8D4E3\",\"gridwidth\":2},\"yaxis\":{\"backgroundcolor\":\"rgb(17,17,17)\",\"gridcolor\":\"#506784\",\"linecolor\":\"#506784\",\"showbackground\":true,\"ticks\":\"\",\"zerolinecolor\":\"#C8D4E3\",\"gridwidth\":2},\"zaxis\":{\"backgroundcolor\":\"rgb(17,17,17)\",\"gridcolor\":\"#506784\",\"linecolor\":\"#506784\",\"showbackground\":true,\"ticks\":\"\",\"zerolinecolor\":\"#C8D4E3\",\"gridwidth\":2}},\"shapedefaults\":{\"line\":{\"color\":\"#f2f5fa\"}},\"annotationdefaults\":{\"arrowcolor\":\"#f2f5fa\",\"arrowhead\":0,\"arrowwidth\":1},\"geo\":{\"bgcolor\":\"rgb(17,17,17)\",\"landcolor\":\"rgb(17,17,17)\",\"subunitcolor\":\"#506784\",\"showland\":true,\"showlakes\":true,\"lakecolor\":\"rgb(17,17,17)\"},\"title\":{\"x\":0.05},\"updatemenudefaults\":{\"bgcolor\":\"#506784\",\"borderwidth\":0},\"sliderdefaults\":{\"bgcolor\":\"#C8D4E3\",\"borderwidth\":1,\"bordercolor\":\"rgb(17,17,17)\",\"tickwidth\":0},\"mapbox\":{\"style\":\"dark\"}}},\"xaxis\":{\"anchor\":\"y\",\"domain\":[0.0,1.0],\"title\":{\"text\":\"Speaker\"}},\"yaxis\":{\"anchor\":\"x\",\"domain\":[0.0,1.0],\"title\":{\"text\":\"Percentage of refuted claims\"}},\"legend\":{\"tracegroupgap\":0},\"title\":{\"text\":\"Percentage of refuted claims by speaker\"},\"barmode\":\"relative\"},                        {\"responsive\": true}                    ).then(function(){\n                            \nvar gd = document.getElementById('cb9fafff-1ffb-49da-863b-b746d93bdc44');\nvar x = new MutationObserver(function (mutations, observer) {{\n        var display = window.getComputedStyle(gd).display;\n        if (!display || display === 'none') {{\n            console.log([gd, 'removed!']);\n            Plotly.purge(gd);\n            observer.disconnect();\n        }}\n}});\n\n// Listen for the removal of the full notebook cells\nvar notebookContainer = gd.closest('#notebook-container');\nif (notebookContainer) {{\n    x.observe(notebookContainer, {childList: true});\n}}\n\n// Listen for the clearing of the current output cell\nvar outputEl = gd.closest('.output');\nif (outputEl) {{\n    x.observe(outputEl, {childList: true});\n}}\n\n                        })                };                });            </script>        </div>"
     },
     "metadata": {},
     "output_type": "display_data"
    }
   ],
   "source": [
    "# build a bar plot with the percentage of refuted claims by speaker\n",
    "fig = px.bar(refuted_by_speaker, x='speaker', y='percentage', title='Percentage of refuted claims by speaker', labels={'speaker': 'Speaker', 'percentage': 'Percentage of refuted claims'})\n",
    "fig.show()"
   ],
   "metadata": {
    "collapsed": false,
    "ExecuteTime": {
     "end_time": "2024-04-24T10:58:41.959442Z",
     "start_time": "2024-04-24T10:58:41.920265Z"
    }
   },
   "id": "25523b782bbf53a3",
   "execution_count": 363
  },
  {
   "cell_type": "code",
   "outputs": [],
   "source": [],
   "metadata": {
    "collapsed": false
   },
   "id": "cdb40aed1232287e"
  }
 ],
 "metadata": {
  "kernelspec": {
   "display_name": "Python 3",
   "language": "python",
   "name": "python3"
  },
  "language_info": {
   "codemirror_mode": {
    "name": "ipython",
    "version": 2
   },
   "file_extension": ".py",
   "mimetype": "text/x-python",
   "name": "python",
   "nbconvert_exporter": "python",
   "pygments_lexer": "ipython2",
   "version": "2.7.6"
  }
 },
 "nbformat": 4,
 "nbformat_minor": 5
}
