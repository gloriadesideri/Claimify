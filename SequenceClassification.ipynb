{
 "nbformat": 4,
 "nbformat_minor": 0,
 "metadata": {
  "colab": {
   "provenance": [],
   "gpuType": "T4"
  },
  "kernelspec": {
   "name": "python3",
   "language": "python",
   "display_name": "Python 3 (ipykernel)"
  },
  "language_info": {
   "name": "python"
  },
  "accelerator": "GPU"
 },
 "cells": [
  {
   "cell_type": "code",
   "source": [
    "import numpy as np\n",
    "import pandas as pd\n",
    "import re\n",
    "from sklearn.metrics import accuracy_score\n",
    "from sklearn.preprocessing import LabelEncoder\n",
    "from sklearn.model_selection import train_test_split\n",
    "from sklearn.metrics import confusion_matrix, ConfusionMatrixDisplay\n",
    "\n",
    "import tensorflow as tf\n",
    "import keras\n",
    "from keras.layers import TextVectorization\n",
    "from keras.utils import to_categorical"
   ],
   "metadata": {
    "id": "VfqX8VJecUFO",
    "ExecuteTime": {
     "end_time": "2024-05-06T09:09:43.467885Z",
     "start_time": "2024-05-06T09:09:27.105409Z"
    }
   },
   "execution_count": 1,
   "outputs": []
  },
  {
   "cell_type": "code",
   "source": [
    "#sotpwords removal\n",
    "import nltk\n",
    "from nltk.corpus import stopwords\n",
    "from nltk.tokenize import word_tokenize"
   ],
   "metadata": {
    "id": "RrD3-yJsdA5z"
   },
   "execution_count": 3,
   "outputs": []
  },
  {
   "cell_type": "code",
   "source": [
    "nltk.download('stopwords')\n",
    "nltk.download('punkt')"
   ],
   "metadata": {
    "colab": {
     "base_uri": "https://localhost:8080/"
    },
    "id": "64y2G2Qgd9Fh",
    "outputId": "f403adc4-42a4-4198-f2d9-cc8d9f9f2913"
   },
   "execution_count": 14,
   "outputs": [
    {
     "output_type": "stream",
     "name": "stderr",
     "text": [
      "[nltk_data] Downloading package stopwords to /root/nltk_data...\n",
      "[nltk_data]   Unzipping corpora/stopwords.zip.\n",
      "[nltk_data] Downloading package punkt to /root/nltk_data...\n",
      "[nltk_data]   Unzipping tokenizers/punkt.zip.\n"
     ]
    },
    {
     "output_type": "execute_result",
     "data": {
      "text/plain": [
       "True"
      ]
     },
     "metadata": {},
     "execution_count": 14
    }
   ]
  },
  {
   "cell_type": "code",
   "execution_count": 2,
   "outputs": [],
   "source": [
    "claims_df = pd.read_csv('./data/postprocessed/claims.csv')\n",
    "claims_df = claims_df.drop(index=1948)\n",
    "claims_str = np.array(claims_df['claim'])"
   ],
   "metadata": {
    "collapsed": false,
    "ExecuteTime": {
     "end_time": "2024-05-06T09:09:54.552788Z",
     "start_time": "2024-05-06T09:09:54.532322Z"
    }
   }
  },
  {
   "cell_type": "code",
   "execution_count": 3,
   "outputs": [
    {
     "data": {
      "text/plain": "3067"
     },
     "execution_count": 3,
     "metadata": {},
     "output_type": "execute_result"
    }
   ],
   "source": [
    "len(claims_df)"
   ],
   "metadata": {
    "collapsed": false,
    "ExecuteTime": {
     "end_time": "2024-05-06T09:09:55.387463Z",
     "start_time": "2024-05-06T09:09:55.384649Z"
    }
   }
  },
  {
   "cell_type": "code",
   "execution_count": 4,
   "outputs": [],
   "source": [
    "answers_df = pd.read_csv('./data/postprocessed/answers.csv')\n",
    "answers_str = np.array(answers_df['answer'])"
   ],
   "metadata": {
    "collapsed": false,
    "ExecuteTime": {
     "end_time": "2024-05-06T09:09:56.385752Z",
     "start_time": "2024-05-06T09:09:56.352851Z"
    }
   }
  },
  {
   "cell_type": "code",
   "execution_count": 5,
   "outputs": [],
   "source": [
    "claims_lbl = np.array(claims_df['label'])"
   ],
   "metadata": {
    "collapsed": false,
    "ExecuteTime": {
     "end_time": "2024-05-06T09:10:01.318589Z",
     "start_time": "2024-05-06T09:10:01.316115Z"
    }
   }
  },
  {
   "cell_type": "code",
   "execution_count": 6,
   "outputs": [
    {
     "data": {
      "text/plain": "3067"
     },
     "execution_count": 6,
     "metadata": {},
     "output_type": "execute_result"
    }
   ],
   "source": [
    "len(claims_lbl)"
   ],
   "metadata": {
    "collapsed": false,
    "ExecuteTime": {
     "end_time": "2024-05-06T09:10:01.725818Z",
     "start_time": "2024-05-06T09:10:01.722508Z"
    }
   }
  },
  {
   "cell_type": "code",
   "execution_count": 7,
   "outputs": [],
   "source": [
    "answers_lbl = np.full(len(answers_str), 'Supported')"
   ],
   "metadata": {
    "collapsed": false,
    "ExecuteTime": {
     "end_time": "2024-05-06T09:10:05.398294Z",
     "start_time": "2024-05-06T09:10:05.395845Z"
    }
   }
  },
  {
   "cell_type": "code",
   "execution_count": 8,
   "outputs": [
    {
     "data": {
      "text/plain": "(array(['Conflicting Evidence/Cherrypicking', 'Not Enough Evidence',\n        'Refuted', 'Supported'], dtype=object),\n array([ 195,  282, 1742,  848]))"
     },
     "execution_count": 8,
     "metadata": {},
     "output_type": "execute_result"
    }
   ],
   "source": [
    "np.unique(claims_lbl, return_counts=True)"
   ],
   "metadata": {
    "collapsed": false,
    "ExecuteTime": {
     "end_time": "2024-05-06T09:10:06.326246Z",
     "start_time": "2024-05-06T09:10:06.323548Z"
    }
   }
  },
  {
   "cell_type": "code",
   "execution_count": 11,
   "outputs": [],
   "source": [
    "X = np.concatenate([claims_str,answers_str])\n",
    "y = np.concatenate([claims_lbl,answers_lbl])"
   ],
   "metadata": {
    "collapsed": false
   }
  },
  {
   "cell_type": "code",
   "execution_count": 12,
   "outputs": [],
   "source": [
    "del claims_str, answers_str, claims_lbl, answers_lbl"
   ],
   "metadata": {
    "collapsed": false
   }
  },
  {
   "cell_type": "code",
   "execution_count": 13,
   "outputs": [],
   "source": [
    "X = [claim.replace('\\n', '') for claim in X]"
   ],
   "metadata": {
    "collapsed": false
   }
  },
  {
   "cell_type": "code",
   "source": [
    "# we have to remove the possessives since we noticed they appeared frequently in the claims\n",
    "def remove_stopwords_and_possessive(tokens):\n",
    "    stop_words = set(stopwords.words('english'))\n",
    "    processed_tokens = []\n",
    "\n",
    "    for token in tokens:\n",
    "        # Remove trailing \"'s\"\n",
    "        token = re.sub(r\"'s\\b\", '', token)\n",
    "\n",
    "        if token.lower() not in stop_words:\n",
    "            processed_tokens.append(token)\n",
    "\n",
    "    return processed_tokens"
   ],
   "metadata": {
    "id": "kkxM_EUqd_Ri"
   },
   "execution_count": 15,
   "outputs": []
  },
  {
   "cell_type": "code",
   "source": [
    "processed_sentences = []\n",
    "\n",
    "for sentence in X:\n",
    "\n",
    "    word_tokens = word_tokenize(sentence)\n",
    "    word_tokens = [word.lower() for word in word_tokens if word.isalnum()]\n",
    "    processed_tokens = remove_stopwords_and_possessive(word_tokens)\n",
    "\n",
    "    processed_sentence = ' '.join(processed_tokens)\n",
    "    processed_sentences.append(processed_sentence)"
   ],
   "metadata": {
    "id": "NKIUiZI9eVSA"
   },
   "execution_count": 17,
   "outputs": []
  },
  {
   "cell_type": "code",
   "source": [
    "X = processed_sentences.copy()"
   ],
   "metadata": {
    "id": "haBqIO1J_PbO"
   },
   "execution_count": 20,
   "outputs": []
  },
  {
   "cell_type": "code",
   "source": [
    "# Initialize LabelEncoder\n",
    "label_encoder = LabelEncoder()\n",
    "\n",
    "# Fit and transform labels\n",
    "y_encoded = label_encoder.fit_transform(y)\n",
    "\n",
    "# Convert integer labels to one-hot encoded format\n",
    "y_ohe = to_categorical(y_encoded)"
   ],
   "metadata": {
    "id": "X4ynSfvnpSKJ"
   },
   "execution_count": 23,
   "outputs": []
  },
  {
   "cell_type": "code",
   "source": [
    "y_ohe.shape"
   ],
   "metadata": {
    "colab": {
     "base_uri": "https://localhost:8080/"
    },
    "id": "n5vTYnWnAB7y",
    "outputId": "79fce58e-7ae6-4924-d086-3b89313fecb0"
   },
   "execution_count": 30,
   "outputs": [
    {
     "output_type": "execute_result",
     "data": {
      "text/plain": [
       "(11546, 4)"
      ]
     },
     "metadata": {},
     "execution_count": 30
    }
   ]
  },
  {
   "cell_type": "code",
   "source": [
    "temp_x, test_x, temp_y, test_y = train_test_split(X, y_ohe, test_size=0.2, shuffle=True, stratify=y_ohe)\n",
    "train_x, valid_x, train_y, valid_y = train_test_split(temp_x, temp_y, test_size=0.1, stratify=temp_y)"
   ],
   "metadata": {
    "id": "5pHHomSReYSs"
   },
   "execution_count": 31,
   "outputs": []
  },
  {
   "cell_type": "code",
   "source": [
    "train_tf = tf.data.Dataset.from_tensor_slices((train_x, train_y))\n",
    "valid_tf = tf.data.Dataset.from_tensor_slices((valid_x, valid_y))"
   ],
   "metadata": {
    "id": "5O26BmC5oQOK"
   },
   "execution_count": 32,
   "outputs": []
  },
  {
   "cell_type": "code",
   "source": [
    "train_dataset = train_tf.shuffle(buffer_size=10000).batch(batch_size=64).prefetch(tf.data.AUTOTUNE)\n",
    "valid_dataset = valid_tf.batch(batch_size=64).prefetch(tf.data.AUTOTUNE)"
   ],
   "metadata": {
    "id": "0LNngJjLo_45"
   },
   "execution_count": 33,
   "outputs": []
  },
  {
   "cell_type": "code",
   "source": [
    "vectorizer = TextVectorization(max_tokens=1000)\n",
    "train_text = train_dataset.map(lambda text, label: text)\n",
    "vectorizer.adapt(train_text)"
   ],
   "metadata": {
    "id": "soAUTn4MrPeJ"
   },
   "execution_count": 34,
   "outputs": []
  },
  {
   "cell_type": "code",
   "source": [
    "model = keras.Sequential([\n",
    "    vectorizer,\n",
    "    keras.layers.Embedding(input_dim=len(vectorizer.get_vocabulary()), output_dim=64, mask_zero=True),\n",
    "    keras.layers.Bidirectional(keras.layers.LSTM(64)),\n",
    "    keras.layers.Dense(64, activation='relu'),\n",
    "    keras.layers.Dense(4)\n",
    "])\n",
    "model.compile(loss=keras.losses.CategoricalCrossentropy(from_logits=True), metrics=['accuracy'], optimizer=keras.optimizers.legacy.Adam(1e-4))"
   ],
   "metadata": {
    "id": "ddqlcltZrnWq"
   },
   "execution_count": 37,
   "outputs": []
  },
  {
   "cell_type": "code",
   "source": [
    "model.fit(train_dataset, epochs=10, validation_data=valid_dataset, validation_steps=20)"
   ],
   "metadata": {
    "colab": {
     "base_uri": "https://localhost:8080/"
    },
    "id": "3QE6JflnsiBM",
    "outputId": "e91fa051-7f92-48fe-fc57-ab3fc23edb81"
   },
   "execution_count": 38,
   "outputs": [
    {
     "output_type": "stream",
     "name": "stdout",
     "text": [
      "Epoch 1/10\n",
      "130/130 [==============================] - ETA: 0s - loss: 1.1313 - accuracy: 0.7840"
     ]
    },
    {
     "output_type": "stream",
     "name": "stderr",
     "text": [
      "WARNING:tensorflow:Your input ran out of data; interrupting training. Make sure that your dataset or generator can generate at least `steps_per_epoch * epochs` batches (in this case, 20 batches). You may need to use the repeat() function when building your dataset.\n"
     ]
    },
    {
     "output_type": "stream",
     "name": "stdout",
     "text": [
      "\b\b\b\b\b\b\b\b\b\b\b\b\b\b\b\b\b\b\b\b\b\b\b\b\b\b\b\b\b\b\b\b\b\b\b\b\b\b\b\b\b\b\b\b\b\b\b\b\b\b\b\b\b\b\b\b\b\b\b\b\b\b\b\b\b\b\b\b\b\b\b\b\b\b\b\b\b\b\b\b\b\b\b\b\r130/130 [==============================] - 64s 426ms/step - loss: 1.1313 - accuracy: 0.7840 - val_loss: 0.7840 - val_accuracy: 0.8074\n",
      "Epoch 2/10\n",
      "130/130 [==============================] - 49s 371ms/step - loss: 0.7417 - accuracy: 0.8079\n",
      "Epoch 3/10\n",
      "130/130 [==============================] - 51s 386ms/step - loss: 0.6842 - accuracy: 0.8079\n",
      "Epoch 4/10\n",
      "130/130 [==============================] - 47s 359ms/step - loss: 0.6415 - accuracy: 0.8079\n",
      "Epoch 5/10\n",
      "130/130 [==============================] - 51s 395ms/step - loss: 0.5974 - accuracy: 0.8079\n",
      "Epoch 6/10\n",
      "130/130 [==============================] - 50s 382ms/step - loss: 0.5554 - accuracy: 0.8083\n",
      "Epoch 7/10\n",
      "130/130 [==============================] - 52s 404ms/step - loss: 0.5246 - accuracy: 0.8136\n",
      "Epoch 8/10\n",
      "130/130 [==============================] - 45s 342ms/step - loss: 0.5019 - accuracy: 0.8219\n",
      "Epoch 9/10\n",
      "130/130 [==============================] - 48s 364ms/step - loss: 0.4843 - accuracy: 0.8257\n",
      "Epoch 10/10\n",
      "130/130 [==============================] - 59s 449ms/step - loss: 0.4690 - accuracy: 0.8318\n"
     ]
    },
    {
     "output_type": "execute_result",
     "data": {
      "text/plain": [
       "<keras.src.callbacks.History at 0x7bac01d42560>"
      ]
     },
     "metadata": {},
     "execution_count": 38
    }
   ]
  },
  {
   "cell_type": "code",
   "source": [
    "predictions_ohe = model.predict(valid_x)\n",
    "pred_y = np.argmax(predictions_ohe, axis=1)\n",
    "predictions_lbl = label_encoder.inverse_transform(pred_y)\n",
    "np.unique(predictions_lbl, return_counts=True)"
   ],
   "metadata": {
    "colab": {
     "base_uri": "https://localhost:8080/"
    },
    "id": "exvTp2O8FDzr",
    "outputId": "464bdd25-e002-426f-cff3-23a359b09a04"
   },
   "execution_count": 51,
   "outputs": [
    {
     "output_type": "stream",
     "name": "stdout",
     "text": [
      "29/29 [==============================] - 1s 30ms/step\n"
     ]
    },
    {
     "output_type": "execute_result",
     "data": {
      "text/plain": [
       "(array(['Refuted', 'Supported'], dtype=object), array([ 81, 843]))"
      ]
     },
     "metadata": {},
     "execution_count": 51
    }
   ]
  },
  {
   "cell_type": "code",
   "source": [
    "valid_y = np.argmax(valid_y, axis=1)\n",
    "valid_y.shape"
   ],
   "metadata": {
    "colab": {
     "base_uri": "https://localhost:8080/"
    },
    "id": "-BNLNghPHSNe",
    "outputId": "d88e38c6-5ee7-4839-8b7e-747af7790d79"
   },
   "execution_count": 53,
   "outputs": [
    {
     "output_type": "execute_result",
     "data": {
      "text/plain": [
       "(924,)"
      ]
     },
     "metadata": {},
     "execution_count": 53
    }
   ]
  },
  {
   "cell_type": "code",
   "source": [
    "print('accuracy: '+ str(accuracy_score(pred_y, valid_y)))"
   ],
   "metadata": {
    "id": "9RI3N333t88L",
    "colab": {
     "base_uri": "https://localhost:8080/"
    },
    "outputId": "23ac6d1a-768f-4af9-a66c-497353b6a220"
   },
   "execution_count": 54,
   "outputs": [
    {
     "output_type": "stream",
     "name": "stdout",
     "text": [
      "accuracy: 0.8138528138528138\n"
     ]
    }
   ]
  },
  {
   "cell_type": "code",
   "source": [
    "cmd = ConfusionMatrixDisplay(confusion_matrix(valid_y, pred_y), display_labels=['CE', 'NEE', 'R', 'S'])\n",
    "cmd.plot()"
   ],
   "metadata": {
    "colab": {
     "base_uri": "https://localhost:8080/",
     "height": 467
    },
    "id": "v8r2GSYOGMlz",
    "outputId": "a57d98d8-45cf-41c7-bb6a-5ed665e958b1"
   },
   "execution_count": 58,
   "outputs": [
    {
     "output_type": "execute_result",
     "data": {
      "text/plain": [
       "<sklearn.metrics._plot.confusion_matrix.ConfusionMatrixDisplay at 0x7bab9cba1960>"
      ]
     },
     "metadata": {},
     "execution_count": 58
    },
    {
     "output_type": "display_data",
     "data": {
      "text/plain": [
       "<Figure size 640x480 with 2 Axes>"
      ],
      "image/png": "[encoded data removed]"
     },
     "metadata": {}
    }
   ]
  },
  {
   "cell_type": "code",
   "source": [],
   "metadata": {
    "id": "NZjrXfxsHqNs"
   },
   "execution_count": null,
   "outputs": []
  }
 ]
}
